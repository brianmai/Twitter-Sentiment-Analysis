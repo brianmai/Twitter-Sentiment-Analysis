{
 "cells": [
  {
   "cell_type": "markdown",
   "metadata": {},
   "source": [
    "# Import packages"
   ]
  },
  {
   "cell_type": "code",
   "execution_count": 1,
   "metadata": {
    "ExecuteTime": {
     "end_time": "2019-07-25T11:36:18.731917Z",
     "start_time": "2019-07-25T11:36:17.193032Z"
    },
    "colab": {
     "base_uri": "https://localhost:8080/",
     "height": 387
    },
    "colab_type": "code",
    "id": "nMx2UqrJFyw-",
    "outputId": "2a1da4e3-31d4-401f-f6b0-9f693ad8d9a6"
   },
   "outputs": [],
   "source": [
    "import pandas as pd\n",
    "import tweepy\n",
    "from nltk.sentiment.vader import SentimentIntensityAnalyzer\n",
    "\n",
    "import matplotlib.pyplot as plt"
   ]
  },
  {
   "cell_type": "markdown",
   "metadata": {},
   "source": [
    "# Get data from Twitter API & Assess polarity score"
   ]
  },
  {
   "cell_type": "code",
   "execution_count": 2,
   "metadata": {
    "ExecuteTime": {
     "end_time": "2019-07-25T11:36:18.736904Z",
     "start_time": "2019-07-25T11:36:18.732913Z"
    },
    "colab": {},
    "colab_type": "code",
    "id": "xoeDu5guGo-N"
   },
   "outputs": [],
   "source": [
    "#Setup Twitter API Authentication Variables to get tweets\n",
    "consumer_key = 'RxH0MdZ9KelMW8aCdSJX7VLWp'\n",
    "consumer_secret = 'ReGejlpQWMgM0lSMycvkNTeSqNqShTVYvfoovB2lhHahumDEbd'\n",
    "access_token = '1127315289303945217-wJuzP9pLaghnX8pGQTiDeUodDeVQXO'\n",
    "access_token_secret = 'UZMXTNjU5eJUfQC9ytx8ZvoPrtFfsSyjdVc5b8YJrJ4eT'"
   ]
  },
  {
   "cell_type": "code",
   "execution_count": 3,
   "metadata": {
    "ExecuteTime": {
     "end_time": "2019-07-25T11:36:19.488723Z",
     "start_time": "2019-07-25T11:36:18.738899Z"
    },
    "colab": {
     "base_uri": "https://localhost:8080/",
     "height": 376
    },
    "colab_type": "code",
    "id": "i41rn4KkG-iz",
    "outputId": "0243083f-626d-4df7-e974-f51e1e9d7790"
   },
   "outputs": [
    {
     "data": {
      "text/html": [
       "<div>\n",
       "<style scoped>\n",
       "    .dataframe tbody tr th:only-of-type {\n",
       "        vertical-align: middle;\n",
       "    }\n",
       "\n",
       "    .dataframe tbody tr th {\n",
       "        vertical-align: top;\n",
       "    }\n",
       "\n",
       "    .dataframe thead th {\n",
       "        text-align: right;\n",
       "    }\n",
       "</style>\n",
       "<table border=\"1\" class=\"dataframe\">\n",
       "  <thead>\n",
       "    <tr style=\"text-align: right;\">\n",
       "      <th></th>\n",
       "      <th>Tweets</th>\n",
       "    </tr>\n",
       "  </thead>\n",
       "  <tbody>\n",
       "    <tr>\n",
       "      <th>0</th>\n",
       "      <td>Where on the Artificial  intelligence (AI) lea...</td>\n",
       "    </tr>\n",
       "    <tr>\n",
       "      <th>1</th>\n",
       "      <td>RT @maxjcm: #Microsoft and learnings from its ...</td>\n",
       "    </tr>\n",
       "    <tr>\n",
       "      <th>2</th>\n",
       "      <td>IAM Platform Curated Tweet:\\n\\n#TopInfluence\\n...</td>\n",
       "    </tr>\n",
       "    <tr>\n",
       "      <th>3</th>\n",
       "      <td>Proms 2019: Battersea Arts Centre to host firs...</td>\n",
       "    </tr>\n",
       "    <tr>\n",
       "      <th>4</th>\n",
       "      <td>Breaking through in artificial intelligence - ...</td>\n",
       "    </tr>\n",
       "    <tr>\n",
       "      <th>5</th>\n",
       "      <td>RT @Funny_babyyy: https://t.co/IVjlmC79wX</td>\n",
       "    </tr>\n",
       "    <tr>\n",
       "      <th>6</th>\n",
       "      <td>RT @kotaknaren: RT @dsteketee97: Great post by...</td>\n",
       "    </tr>\n",
       "    <tr>\n",
       "      <th>7</th>\n",
       "      <td>RT @Celebrit_t: https://t.co/J7c1rJTs2O</td>\n",
       "    </tr>\n",
       "    <tr>\n",
       "      <th>8</th>\n",
       "      <td>RT @TXHCC19: Notable Labs AI can predict patie...</td>\n",
       "    </tr>\n",
       "    <tr>\n",
       "      <th>9</th>\n",
       "      <td>Dr. Amlan K Saha, Principal, The Sagar School....</td>\n",
       "    </tr>\n",
       "  </tbody>\n",
       "</table>\n",
       "</div>"
      ],
      "text/plain": [
       "                                              Tweets\n",
       "0  Where on the Artificial  intelligence (AI) lea...\n",
       "1  RT @maxjcm: #Microsoft and learnings from its ...\n",
       "2  IAM Platform Curated Tweet:\\n\\n#TopInfluence\\n...\n",
       "3  Proms 2019: Battersea Arts Centre to host firs...\n",
       "4  Breaking through in artificial intelligence - ...\n",
       "5          RT @Funny_babyyy: https://t.co/IVjlmC79wX\n",
       "6  RT @kotaknaren: RT @dsteketee97: Great post by...\n",
       "7            RT @Celebrit_t: https://t.co/J7c1rJTs2O\n",
       "8  RT @TXHCC19: Notable Labs AI can predict patie...\n",
       "9  Dr. Amlan K Saha, Principal, The Sagar School...."
      ]
     },
     "metadata": {},
     "output_type": "display_data"
    },
    {
     "name": "stdout",
     "output_type": "stream",
     "text": [
      "2019-07-25 11:35:52\n"
     ]
    }
   ],
   "source": [
    "auth = tweepy.OAuthHandler(consumer_key, consumer_secret)\n",
    "auth.set_access_token(access_token, access_token_secret)\n",
    "\n",
    "api = tweepy.API(auth)\n",
    "\n",
    "tweets = api.search('Artificial Intelligence', count=200)\n",
    "\n",
    "\n",
    "data = pd.DataFrame(data=[tweet.text for tweet in tweets], columns=['Tweets'])\n",
    "\n",
    "display(data.head(10))\n",
    "\n",
    "\n",
    "print(tweets[0].created_at)\n"
   ]
  },
  {
   "cell_type": "code",
   "execution_count": 4,
   "metadata": {
    "ExecuteTime": {
     "end_time": "2019-07-25T11:36:19.673375Z",
     "start_time": "2019-07-25T11:36:19.489716Z"
    },
    "colab": {
     "base_uri": "https://localhost:8080/",
     "height": 69
    },
    "colab_type": "code",
    "id": "6k_z5lpRIN4t",
    "outputId": "e5f77812-a407-4ed0-8198-240dd01b2bec"
   },
   "outputs": [
    {
     "name": "stderr",
     "output_type": "stream",
     "text": [
      "[nltk_data] Downloading package vader_lexicon to\n",
      "[nltk_data]     C:\\Users\\BRIAN\\AppData\\Roaming\\nltk_data...\n",
      "[nltk_data]   Package vader_lexicon is already up-to-date!\n"
     ]
    },
    {
     "data": {
      "text/plain": [
       "True"
      ]
     },
     "execution_count": 4,
     "metadata": {},
     "output_type": "execute_result"
    }
   ],
   "source": [
    "import nltk\n",
    "nltk.download('vader_lexicon')"
   ]
  },
  {
   "cell_type": "code",
   "execution_count": 5,
   "metadata": {
    "ExecuteTime": {
     "end_time": "2019-07-25T11:36:19.729225Z",
     "start_time": "2019-07-25T11:36:19.674371Z"
    },
    "colab": {
     "base_uri": "https://localhost:8080/",
     "height": 1969
    },
    "colab_type": "code",
    "id": "kQiYGQEqIZ3w",
    "outputId": "35c11ad4-4e98-4d25-c32a-0b627a3e5d90",
    "scrolled": true
   },
   "outputs": [
    {
     "data": {
      "text/html": [
       "<div>\n",
       "<style scoped>\n",
       "    .dataframe tbody tr th:only-of-type {\n",
       "        vertical-align: middle;\n",
       "    }\n",
       "\n",
       "    .dataframe tbody tr th {\n",
       "        vertical-align: top;\n",
       "    }\n",
       "\n",
       "    .dataframe thead th {\n",
       "        text-align: right;\n",
       "    }\n",
       "</style>\n",
       "<table border=\"1\" class=\"dataframe\">\n",
       "  <thead>\n",
       "    <tr style=\"text-align: right;\">\n",
       "      <th></th>\n",
       "      <th>Tweets</th>\n",
       "      <th>polarity</th>\n",
       "    </tr>\n",
       "  </thead>\n",
       "  <tbody>\n",
       "    <tr>\n",
       "      <th>0</th>\n",
       "      <td>Where on the Artificial  intelligence (AI) lea...</td>\n",
       "      <td>{'neg': 0.0, 'neu': 0.819, 'pos': 0.181, 'comp...</td>\n",
       "    </tr>\n",
       "    <tr>\n",
       "      <th>1</th>\n",
       "      <td>RT @maxjcm: #Microsoft and learnings from its ...</td>\n",
       "      <td>{'neg': 0.155, 'neu': 0.845, 'pos': 0.0, 'comp...</td>\n",
       "    </tr>\n",
       "    <tr>\n",
       "      <th>2</th>\n",
       "      <td>IAM Platform Curated Tweet:\\n\\n#TopInfluence\\n...</td>\n",
       "      <td>{'neg': 0.0, 'neu': 0.718, 'pos': 0.282, 'comp...</td>\n",
       "    </tr>\n",
       "    <tr>\n",
       "      <th>3</th>\n",
       "      <td>Proms 2019: Battersea Arts Centre to host firs...</td>\n",
       "      <td>{'neg': 0.0, 'neu': 0.807, 'pos': 0.193, 'comp...</td>\n",
       "    </tr>\n",
       "    <tr>\n",
       "      <th>4</th>\n",
       "      <td>Breaking through in artificial intelligence - ...</td>\n",
       "      <td>{'neg': 0.0, 'neu': 0.617, 'pos': 0.383, 'comp...</td>\n",
       "    </tr>\n",
       "    <tr>\n",
       "      <th>5</th>\n",
       "      <td>RT @Funny_babyyy: https://t.co/IVjlmC79wX</td>\n",
       "      <td>{'neg': 0.0, 'neu': 1.0, 'pos': 0.0, 'compound...</td>\n",
       "    </tr>\n",
       "    <tr>\n",
       "      <th>6</th>\n",
       "      <td>RT @kotaknaren: RT @dsteketee97: Great post by...</td>\n",
       "      <td>{'neg': 0.0, 'neu': 0.627, 'pos': 0.373, 'comp...</td>\n",
       "    </tr>\n",
       "    <tr>\n",
       "      <th>7</th>\n",
       "      <td>RT @Celebrit_t: https://t.co/J7c1rJTs2O</td>\n",
       "      <td>{'neg': 0.0, 'neu': 1.0, 'pos': 0.0, 'compound...</td>\n",
       "    </tr>\n",
       "    <tr>\n",
       "      <th>8</th>\n",
       "      <td>RT @TXHCC19: Notable Labs AI can predict patie...</td>\n",
       "      <td>{'neg': 0.084, 'neu': 0.916, 'pos': 0.0, 'comp...</td>\n",
       "    </tr>\n",
       "    <tr>\n",
       "      <th>9</th>\n",
       "      <td>Dr. Amlan K Saha, Principal, The Sagar School....</td>\n",
       "      <td>{'neg': 0.223, 'neu': 0.644, 'pos': 0.133, 'co...</td>\n",
       "    </tr>\n",
       "    <tr>\n",
       "      <th>10</th>\n",
       "      <td>RT @TechnoidHub: Microsoft in its quest for Ar...</td>\n",
       "      <td>{'neg': 0.0, 'neu': 0.838, 'pos': 0.162, 'comp...</td>\n",
       "    </tr>\n",
       "    <tr>\n",
       "      <th>11</th>\n",
       "      <td>RT @Funny_babyyy: https://t.co/IVjlmC79wX</td>\n",
       "      <td>{'neg': 0.0, 'neu': 1.0, 'pos': 0.0, 'compound...</td>\n",
       "    </tr>\n",
       "    <tr>\n",
       "      <th>12</th>\n",
       "      <td>RT @babyy_girlss: https://t.co/hs6LaTOzMJ</td>\n",
       "      <td>{'neg': 0.0, 'neu': 1.0, 'pos': 0.0, 'compound...</td>\n",
       "    </tr>\n",
       "    <tr>\n",
       "      <th>13</th>\n",
       "      <td>RT @dsteketee97: Great post by Rahul Parikh MD...</td>\n",
       "      <td>{'neg': 0.0, 'neu': 0.69, 'pos': 0.31, 'compou...</td>\n",
       "    </tr>\n",
       "    <tr>\n",
       "      <th>14</th>\n",
       "      <td>Current Issue: Artificial intelligence in glau...</td>\n",
       "      <td>{'neg': 0.0, 'neu': 0.659, 'pos': 0.341, 'comp...</td>\n",
       "    </tr>\n",
       "    <tr>\n",
       "      <th>15</th>\n",
       "      <td>Killer robots ‘so intelligent they’re like god...</td>\n",
       "      <td>{'neg': 0.189, 'neu': 0.57, 'pos': 0.241, 'com...</td>\n",
       "    </tr>\n",
       "    <tr>\n",
       "      <th>16</th>\n",
       "      <td>The first ever artificial intelligence Prom is...</td>\n",
       "      <td>{'neg': 0.0, 'neu': 0.807, 'pos': 0.193, 'comp...</td>\n",
       "    </tr>\n",
       "    <tr>\n",
       "      <th>17</th>\n",
       "      <td>@ai_bottos Bottos!\\nThe Decentralized Big Data...</td>\n",
       "      <td>{'neg': 0.0, 'neu': 0.71, 'pos': 0.29, 'compou...</td>\n",
       "    </tr>\n",
       "    <tr>\n",
       "      <th>18</th>\n",
       "      <td>Proms 2019: Battersea Arts Centre to host firs...</td>\n",
       "      <td>{'neg': 0.0, 'neu': 0.819, 'pos': 0.181, 'comp...</td>\n",
       "    </tr>\n",
       "    <tr>\n",
       "      <th>19</th>\n",
       "      <td>RT @LemmayKoopa: the absolute peak of artifici...</td>\n",
       "      <td>{'neg': 0.0, 'neu': 0.763, 'pos': 0.237, 'comp...</td>\n",
       "    </tr>\n",
       "    <tr>\n",
       "      <th>20</th>\n",
       "      <td>RT @babyy_girlss: https://t.co/hs6LaTOzMJ</td>\n",
       "      <td>{'neg': 0.0, 'neu': 1.0, 'pos': 0.0, 'compound...</td>\n",
       "    </tr>\n",
       "    <tr>\n",
       "      <th>21</th>\n",
       "      <td>RT @ipfconline1: How B2B Marketers Can Use Art...</td>\n",
       "      <td>{'neg': 0.0, 'neu': 0.829, 'pos': 0.171, 'comp...</td>\n",
       "    </tr>\n",
       "    <tr>\n",
       "      <th>22</th>\n",
       "      <td>Demystifying Artificial Intelligence: #AI for ...</td>\n",
       "      <td>{'neg': 0.0, 'neu': 0.819, 'pos': 0.181, 'comp...</td>\n",
       "    </tr>\n",
       "    <tr>\n",
       "      <th>23</th>\n",
       "      <td>RT @Funny_babyyy: https://t.co/IVjlmC79wX</td>\n",
       "      <td>{'neg': 0.0, 'neu': 1.0, 'pos': 0.0, 'compound...</td>\n",
       "    </tr>\n",
       "    <tr>\n",
       "      <th>24</th>\n",
       "      <td>When your co-worker is an AI-driven robot http...</td>\n",
       "      <td>{'neg': 0.0, 'neu': 1.0, 'pos': 0.0, 'compound...</td>\n",
       "    </tr>\n",
       "    <tr>\n",
       "      <th>25</th>\n",
       "      <td>RT @DJSonik6: Congrats ⁦@elonmusk⁩ Microsoft h...</td>\n",
       "      <td>{'neg': 0.0, 'neu': 0.723, 'pos': 0.277, 'comp...</td>\n",
       "    </tr>\n",
       "    <tr>\n",
       "      <th>26</th>\n",
       "      <td>Marketing and Artificial Intelligence Meet at ...</td>\n",
       "      <td>{'neg': 0.0, 'neu': 0.763, 'pos': 0.237, 'comp...</td>\n",
       "    </tr>\n",
       "    <tr>\n",
       "      <th>27</th>\n",
       "      <td>RT @Capgemini: #AI not only cuts the cost of d...</td>\n",
       "      <td>{'neg': 0.0, 'neu': 0.927, 'pos': 0.073, 'comp...</td>\n",
       "    </tr>\n",
       "    <tr>\n",
       "      <th>28</th>\n",
       "      <td>How B2B Marketers Can Use Artificial Intellige...</td>\n",
       "      <td>{'neg': 0.0, 'neu': 0.807, 'pos': 0.193, 'comp...</td>\n",
       "    </tr>\n",
       "    <tr>\n",
       "      <th>29</th>\n",
       "      <td>The #AI community's reaction to @Microsoft's $...</td>\n",
       "      <td>{'neg': 0.0, 'neu': 1.0, 'pos': 0.0, 'compound...</td>\n",
       "    </tr>\n",
       "    <tr>\n",
       "      <th>...</th>\n",
       "      <td>...</td>\n",
       "      <td>...</td>\n",
       "    </tr>\n",
       "    <tr>\n",
       "      <th>67</th>\n",
       "      <td>Four ways Google is using AI to solve problems...</td>\n",
       "      <td>{'neg': 0.146, 'neu': 0.757, 'pos': 0.097, 'co...</td>\n",
       "    </tr>\n",
       "    <tr>\n",
       "      <th>68</th>\n",
       "      <td>RT @citizentvkenya: Blockchain &amp;amp; Artificia...</td>\n",
       "      <td>{'neg': 0.0, 'neu': 0.773, 'pos': 0.227, 'comp...</td>\n",
       "    </tr>\n",
       "    <tr>\n",
       "      <th>69</th>\n",
       "      <td>Team Never Quit - Discussion on Artificial Int...</td>\n",
       "      <td>{'neg': 0.0, 'neu': 0.78, 'pos': 0.22, 'compou...</td>\n",
       "    </tr>\n",
       "    <tr>\n",
       "      <th>70</th>\n",
       "      <td>Araştırmalara göre sanal gerçekliğin aktif kul...</td>\n",
       "      <td>{'neg': 0.0, 'neu': 1.0, 'pos': 0.0, 'compound...</td>\n",
       "    </tr>\n",
       "    <tr>\n",
       "      <th>71</th>\n",
       "      <td>RT @MicronStorage: Watch or Download the @Micr...</td>\n",
       "      <td>{'neg': 0.0, 'neu': 1.0, 'pos': 0.0, 'compound...</td>\n",
       "    </tr>\n",
       "    <tr>\n",
       "      <th>72</th>\n",
       "      <td>RT @AmBawaziir: Looking for internship in (dat...</td>\n",
       "      <td>{'neg': 0.0, 'neu': 0.887, 'pos': 0.113, 'comp...</td>\n",
       "    </tr>\n",
       "    <tr>\n",
       "      <th>73</th>\n",
       "      <td>RT @grattonboy: The Non-Technical Guide to Art...</td>\n",
       "      <td>{'neg': 0.0, 'neu': 0.763, 'pos': 0.237, 'comp...</td>\n",
       "    </tr>\n",
       "    <tr>\n",
       "      <th>74</th>\n",
       "      <td>RT @techreview: Artificial intelligence and vi...</td>\n",
       "      <td>{'neg': 0.0, 'neu': 0.725, 'pos': 0.275, 'comp...</td>\n",
       "    </tr>\n",
       "    <tr>\n",
       "      <th>75</th>\n",
       "      <td>@ai_bottos Bottos!\\nA Robust And Easy-to-devel...</td>\n",
       "      <td>{'neg': 0.0, 'neu': 0.644, 'pos': 0.356, 'comp...</td>\n",
       "    </tr>\n",
       "    <tr>\n",
       "      <th>76</th>\n",
       "      <td>Artificial Intelligence – Is it an advantage o...</td>\n",
       "      <td>{'neg': 0.163, 'neu': 0.478, 'pos': 0.359, 'co...</td>\n",
       "    </tr>\n",
       "    <tr>\n",
       "      <th>77</th>\n",
       "      <td>RT @UNUMERIT: Will artificial intelligence sol...</td>\n",
       "      <td>{'neg': 0.223, 'neu': 0.611, 'pos': 0.166, 'co...</td>\n",
       "    </tr>\n",
       "    <tr>\n",
       "      <th>78</th>\n",
       "      <td>Beyond Formal Education: Why Artificial Intell...</td>\n",
       "      <td>{'neg': 0.0, 'neu': 0.763, 'pos': 0.237, 'comp...</td>\n",
       "    </tr>\n",
       "    <tr>\n",
       "      <th>79</th>\n",
       "      <td>Beyond Formal Education: Why Artificial Intell...</td>\n",
       "      <td>{'neg': 0.0, 'neu': 0.744, 'pos': 0.256, 'comp...</td>\n",
       "    </tr>\n",
       "    <tr>\n",
       "      <th>80</th>\n",
       "      <td>RT @Celebrit_t: https://t.co/J7c1rJTs2O</td>\n",
       "      <td>{'neg': 0.0, 'neu': 1.0, 'pos': 0.0, 'compound...</td>\n",
       "    </tr>\n",
       "    <tr>\n",
       "      <th>81</th>\n",
       "      <td>RT @AishaYesufu: The brain that our mates are ...</td>\n",
       "      <td>{'neg': 0.0, 'neu': 0.89, 'pos': 0.11, 'compou...</td>\n",
       "    </tr>\n",
       "    <tr>\n",
       "      <th>82</th>\n",
       "      <td>RT @SKEMA_BS: Are you been wondering why artif...</td>\n",
       "      <td>{'neg': 0.0, 'neu': 0.866, 'pos': 0.134, 'comp...</td>\n",
       "    </tr>\n",
       "    <tr>\n",
       "      <th>83</th>\n",
       "      <td>The Non-Technical Guide to Artificial Intellig...</td>\n",
       "      <td>{'neg': 0.0, 'neu': 0.721, 'pos': 0.279, 'comp...</td>\n",
       "    </tr>\n",
       "    <tr>\n",
       "      <th>84</th>\n",
       "      <td>RT @swahilipothub: The Distributed Ledgers tec...</td>\n",
       "      <td>{'neg': 0.0, 'neu': 0.86, 'pos': 0.14, 'compou...</td>\n",
       "    </tr>\n",
       "    <tr>\n",
       "      <th>85</th>\n",
       "      <td>RT @GTWDigitalUK: Artificial Intelligence help...</td>\n",
       "      <td>{'neg': 0.0, 'neu': 0.746, 'pos': 0.254, 'comp...</td>\n",
       "    </tr>\n",
       "    <tr>\n",
       "      <th>86</th>\n",
       "      <td>RT @doecsgf: To make #fusionenergy feasible, @...</td>\n",
       "      <td>{'neg': 0.0, 'neu': 1.0, 'pos': 0.0, 'compound...</td>\n",
       "    </tr>\n",
       "    <tr>\n",
       "      <th>87</th>\n",
       "      <td>Sanskrit is the most scientific language of th...</td>\n",
       "      <td>{'neg': 0.0, 'neu': 0.846, 'pos': 0.154, 'comp...</td>\n",
       "    </tr>\n",
       "    <tr>\n",
       "      <th>88</th>\n",
       "      <td>RT @MarshaCollier: A Changing Internet: \\nThe ...</td>\n",
       "      <td>{'neg': 0.0, 'neu': 0.846, 'pos': 0.154, 'comp...</td>\n",
       "    </tr>\n",
       "    <tr>\n",
       "      <th>89</th>\n",
       "      <td>Artificial intelligence and home assistants ar...</td>\n",
       "      <td>{'neg': 0.0, 'neu': 0.736, 'pos': 0.264, 'comp...</td>\n",
       "    </tr>\n",
       "    <tr>\n",
       "      <th>90</th>\n",
       "      <td>RT @EllyShobi: Solar forecasting accuracy impr...</td>\n",
       "      <td>{'neg': 0.0, 'neu': 0.865, 'pos': 0.135, 'comp...</td>\n",
       "    </tr>\n",
       "    <tr>\n",
       "      <th>91</th>\n",
       "      <td>IAM Platform Curated Tweet:\\n\\n#TopInfluence\\n...</td>\n",
       "      <td>{'neg': 0.0, 'neu': 0.829, 'pos': 0.171, 'comp...</td>\n",
       "    </tr>\n",
       "    <tr>\n",
       "      <th>92</th>\n",
       "      <td>Perhaps the desire for artificial  intelligenc...</td>\n",
       "      <td>{'neg': 0.093, 'neu': 0.565, 'pos': 0.343, 'co...</td>\n",
       "    </tr>\n",
       "    <tr>\n",
       "      <th>93</th>\n",
       "      <td>RT @nordicinst: Artificial Intelligence Market...</td>\n",
       "      <td>{'neg': 0.0, 'neu': 0.628, 'pos': 0.372, 'comp...</td>\n",
       "    </tr>\n",
       "    <tr>\n",
       "      <th>94</th>\n",
       "      <td>RT @Funny_babyyy: https://t.co/IVjlmC79wX</td>\n",
       "      <td>{'neg': 0.0, 'neu': 1.0, 'pos': 0.0, 'compound...</td>\n",
       "    </tr>\n",
       "    <tr>\n",
       "      <th>95</th>\n",
       "      <td>RT @IanLJones98: Four Rules To Guide Expectati...</td>\n",
       "      <td>{'neg': 0.0, 'neu': 0.853, 'pos': 0.147, 'comp...</td>\n",
       "    </tr>\n",
       "    <tr>\n",
       "      <th>96</th>\n",
       "      <td>RT @GoncMarcIBM: Japan launches long-term Arti...</td>\n",
       "      <td>{'neg': 0.0, 'neu': 0.819, 'pos': 0.181, 'comp...</td>\n",
       "    </tr>\n",
       "  </tbody>\n",
       "</table>\n",
       "<p>97 rows × 2 columns</p>\n",
       "</div>"
      ],
      "text/plain": [
       "                                               Tweets  \\\n",
       "0   Where on the Artificial  intelligence (AI) lea...   \n",
       "1   RT @maxjcm: #Microsoft and learnings from its ...   \n",
       "2   IAM Platform Curated Tweet:\\n\\n#TopInfluence\\n...   \n",
       "3   Proms 2019: Battersea Arts Centre to host firs...   \n",
       "4   Breaking through in artificial intelligence - ...   \n",
       "5           RT @Funny_babyyy: https://t.co/IVjlmC79wX   \n",
       "6   RT @kotaknaren: RT @dsteketee97: Great post by...   \n",
       "7             RT @Celebrit_t: https://t.co/J7c1rJTs2O   \n",
       "8   RT @TXHCC19: Notable Labs AI can predict patie...   \n",
       "9   Dr. Amlan K Saha, Principal, The Sagar School....   \n",
       "10  RT @TechnoidHub: Microsoft in its quest for Ar...   \n",
       "11          RT @Funny_babyyy: https://t.co/IVjlmC79wX   \n",
       "12          RT @babyy_girlss: https://t.co/hs6LaTOzMJ   \n",
       "13  RT @dsteketee97: Great post by Rahul Parikh MD...   \n",
       "14  Current Issue: Artificial intelligence in glau...   \n",
       "15  Killer robots ‘so intelligent they’re like god...   \n",
       "16  The first ever artificial intelligence Prom is...   \n",
       "17  @ai_bottos Bottos!\\nThe Decentralized Big Data...   \n",
       "18  Proms 2019: Battersea Arts Centre to host firs...   \n",
       "19  RT @LemmayKoopa: the absolute peak of artifici...   \n",
       "20          RT @babyy_girlss: https://t.co/hs6LaTOzMJ   \n",
       "21  RT @ipfconline1: How B2B Marketers Can Use Art...   \n",
       "22  Demystifying Artificial Intelligence: #AI for ...   \n",
       "23          RT @Funny_babyyy: https://t.co/IVjlmC79wX   \n",
       "24  When your co-worker is an AI-driven robot http...   \n",
       "25  RT @DJSonik6: Congrats ⁦@elonmusk⁩ Microsoft h...   \n",
       "26  Marketing and Artificial Intelligence Meet at ...   \n",
       "27  RT @Capgemini: #AI not only cuts the cost of d...   \n",
       "28  How B2B Marketers Can Use Artificial Intellige...   \n",
       "29  The #AI community's reaction to @Microsoft's $...   \n",
       "..                                                ...   \n",
       "67  Four ways Google is using AI to solve problems...   \n",
       "68  RT @citizentvkenya: Blockchain &amp; Artificia...   \n",
       "69  Team Never Quit - Discussion on Artificial Int...   \n",
       "70  Araştırmalara göre sanal gerçekliğin aktif kul...   \n",
       "71  RT @MicronStorage: Watch or Download the @Micr...   \n",
       "72  RT @AmBawaziir: Looking for internship in (dat...   \n",
       "73  RT @grattonboy: The Non-Technical Guide to Art...   \n",
       "74  RT @techreview: Artificial intelligence and vi...   \n",
       "75  @ai_bottos Bottos!\\nA Robust And Easy-to-devel...   \n",
       "76  Artificial Intelligence – Is it an advantage o...   \n",
       "77  RT @UNUMERIT: Will artificial intelligence sol...   \n",
       "78  Beyond Formal Education: Why Artificial Intell...   \n",
       "79  Beyond Formal Education: Why Artificial Intell...   \n",
       "80            RT @Celebrit_t: https://t.co/J7c1rJTs2O   \n",
       "81  RT @AishaYesufu: The brain that our mates are ...   \n",
       "82  RT @SKEMA_BS: Are you been wondering why artif...   \n",
       "83  The Non-Technical Guide to Artificial Intellig...   \n",
       "84  RT @swahilipothub: The Distributed Ledgers tec...   \n",
       "85  RT @GTWDigitalUK: Artificial Intelligence help...   \n",
       "86  RT @doecsgf: To make #fusionenergy feasible, @...   \n",
       "87  Sanskrit is the most scientific language of th...   \n",
       "88  RT @MarshaCollier: A Changing Internet: \\nThe ...   \n",
       "89  Artificial intelligence and home assistants ar...   \n",
       "90  RT @EllyShobi: Solar forecasting accuracy impr...   \n",
       "91  IAM Platform Curated Tweet:\\n\\n#TopInfluence\\n...   \n",
       "92  Perhaps the desire for artificial  intelligenc...   \n",
       "93  RT @nordicinst: Artificial Intelligence Market...   \n",
       "94          RT @Funny_babyyy: https://t.co/IVjlmC79wX   \n",
       "95  RT @IanLJones98: Four Rules To Guide Expectati...   \n",
       "96  RT @GoncMarcIBM: Japan launches long-term Arti...   \n",
       "\n",
       "                                             polarity  \n",
       "0   {'neg': 0.0, 'neu': 0.819, 'pos': 0.181, 'comp...  \n",
       "1   {'neg': 0.155, 'neu': 0.845, 'pos': 0.0, 'comp...  \n",
       "2   {'neg': 0.0, 'neu': 0.718, 'pos': 0.282, 'comp...  \n",
       "3   {'neg': 0.0, 'neu': 0.807, 'pos': 0.193, 'comp...  \n",
       "4   {'neg': 0.0, 'neu': 0.617, 'pos': 0.383, 'comp...  \n",
       "5   {'neg': 0.0, 'neu': 1.0, 'pos': 0.0, 'compound...  \n",
       "6   {'neg': 0.0, 'neu': 0.627, 'pos': 0.373, 'comp...  \n",
       "7   {'neg': 0.0, 'neu': 1.0, 'pos': 0.0, 'compound...  \n",
       "8   {'neg': 0.084, 'neu': 0.916, 'pos': 0.0, 'comp...  \n",
       "9   {'neg': 0.223, 'neu': 0.644, 'pos': 0.133, 'co...  \n",
       "10  {'neg': 0.0, 'neu': 0.838, 'pos': 0.162, 'comp...  \n",
       "11  {'neg': 0.0, 'neu': 1.0, 'pos': 0.0, 'compound...  \n",
       "12  {'neg': 0.0, 'neu': 1.0, 'pos': 0.0, 'compound...  \n",
       "13  {'neg': 0.0, 'neu': 0.69, 'pos': 0.31, 'compou...  \n",
       "14  {'neg': 0.0, 'neu': 0.659, 'pos': 0.341, 'comp...  \n",
       "15  {'neg': 0.189, 'neu': 0.57, 'pos': 0.241, 'com...  \n",
       "16  {'neg': 0.0, 'neu': 0.807, 'pos': 0.193, 'comp...  \n",
       "17  {'neg': 0.0, 'neu': 0.71, 'pos': 0.29, 'compou...  \n",
       "18  {'neg': 0.0, 'neu': 0.819, 'pos': 0.181, 'comp...  \n",
       "19  {'neg': 0.0, 'neu': 0.763, 'pos': 0.237, 'comp...  \n",
       "20  {'neg': 0.0, 'neu': 1.0, 'pos': 0.0, 'compound...  \n",
       "21  {'neg': 0.0, 'neu': 0.829, 'pos': 0.171, 'comp...  \n",
       "22  {'neg': 0.0, 'neu': 0.819, 'pos': 0.181, 'comp...  \n",
       "23  {'neg': 0.0, 'neu': 1.0, 'pos': 0.0, 'compound...  \n",
       "24  {'neg': 0.0, 'neu': 1.0, 'pos': 0.0, 'compound...  \n",
       "25  {'neg': 0.0, 'neu': 0.723, 'pos': 0.277, 'comp...  \n",
       "26  {'neg': 0.0, 'neu': 0.763, 'pos': 0.237, 'comp...  \n",
       "27  {'neg': 0.0, 'neu': 0.927, 'pos': 0.073, 'comp...  \n",
       "28  {'neg': 0.0, 'neu': 0.807, 'pos': 0.193, 'comp...  \n",
       "29  {'neg': 0.0, 'neu': 1.0, 'pos': 0.0, 'compound...  \n",
       "..                                                ...  \n",
       "67  {'neg': 0.146, 'neu': 0.757, 'pos': 0.097, 'co...  \n",
       "68  {'neg': 0.0, 'neu': 0.773, 'pos': 0.227, 'comp...  \n",
       "69  {'neg': 0.0, 'neu': 0.78, 'pos': 0.22, 'compou...  \n",
       "70  {'neg': 0.0, 'neu': 1.0, 'pos': 0.0, 'compound...  \n",
       "71  {'neg': 0.0, 'neu': 1.0, 'pos': 0.0, 'compound...  \n",
       "72  {'neg': 0.0, 'neu': 0.887, 'pos': 0.113, 'comp...  \n",
       "73  {'neg': 0.0, 'neu': 0.763, 'pos': 0.237, 'comp...  \n",
       "74  {'neg': 0.0, 'neu': 0.725, 'pos': 0.275, 'comp...  \n",
       "75  {'neg': 0.0, 'neu': 0.644, 'pos': 0.356, 'comp...  \n",
       "76  {'neg': 0.163, 'neu': 0.478, 'pos': 0.359, 'co...  \n",
       "77  {'neg': 0.223, 'neu': 0.611, 'pos': 0.166, 'co...  \n",
       "78  {'neg': 0.0, 'neu': 0.763, 'pos': 0.237, 'comp...  \n",
       "79  {'neg': 0.0, 'neu': 0.744, 'pos': 0.256, 'comp...  \n",
       "80  {'neg': 0.0, 'neu': 1.0, 'pos': 0.0, 'compound...  \n",
       "81  {'neg': 0.0, 'neu': 0.89, 'pos': 0.11, 'compou...  \n",
       "82  {'neg': 0.0, 'neu': 0.866, 'pos': 0.134, 'comp...  \n",
       "83  {'neg': 0.0, 'neu': 0.721, 'pos': 0.279, 'comp...  \n",
       "84  {'neg': 0.0, 'neu': 0.86, 'pos': 0.14, 'compou...  \n",
       "85  {'neg': 0.0, 'neu': 0.746, 'pos': 0.254, 'comp...  \n",
       "86  {'neg': 0.0, 'neu': 1.0, 'pos': 0.0, 'compound...  \n",
       "87  {'neg': 0.0, 'neu': 0.846, 'pos': 0.154, 'comp...  \n",
       "88  {'neg': 0.0, 'neu': 0.846, 'pos': 0.154, 'comp...  \n",
       "89  {'neg': 0.0, 'neu': 0.736, 'pos': 0.264, 'comp...  \n",
       "90  {'neg': 0.0, 'neu': 0.865, 'pos': 0.135, 'comp...  \n",
       "91  {'neg': 0.0, 'neu': 0.829, 'pos': 0.171, 'comp...  \n",
       "92  {'neg': 0.093, 'neu': 0.565, 'pos': 0.343, 'co...  \n",
       "93  {'neg': 0.0, 'neu': 0.628, 'pos': 0.372, 'comp...  \n",
       "94  {'neg': 0.0, 'neu': 1.0, 'pos': 0.0, 'compound...  \n",
       "95  {'neg': 0.0, 'neu': 0.853, 'pos': 0.147, 'comp...  \n",
       "96  {'neg': 0.0, 'neu': 0.819, 'pos': 0.181, 'comp...  \n",
       "\n",
       "[97 rows x 2 columns]"
      ]
     },
     "metadata": {},
     "output_type": "display_data"
    }
   ],
   "source": [
    "sid = SentimentIntensityAnalyzer()\n",
    "\n",
    "\n",
    "listy = []\n",
    "\n",
    "for index, row in data.iterrows():\n",
    "  ss = sid.polarity_scores(row[\"Tweets\"])\n",
    "  listy.append(ss)\n",
    "  \n",
    "se = pd.Series(listy)\n",
    "data['polarity'] = se.values\n",
    "\n",
    "display(data.head(100))"
   ]
  },
  {
   "cell_type": "code",
   "execution_count": 6,
   "metadata": {
    "ExecuteTime": {
     "end_time": "2019-07-25T11:36:19.735205Z",
     "start_time": "2019-07-25T11:36:19.730200Z"
    }
   },
   "outputs": [
    {
     "data": {
      "text/plain": [
       "'RT @maxjcm: #Microsoft and learnings from its failed #Tay #AI bot \\n\\n#artificialintelligence #AI #MachineLearning #ML #DL #BigData Cc @ronal…'"
      ]
     },
     "execution_count": 6,
     "metadata": {},
     "output_type": "execute_result"
    }
   ],
   "source": [
    "data['Tweets'][1]"
   ]
  },
  {
   "cell_type": "markdown",
   "metadata": {},
   "source": [
    "# Data Analysis"
   ]
  },
  {
   "cell_type": "code",
   "execution_count": 7,
   "metadata": {
    "ExecuteTime": {
     "end_time": "2019-07-25T11:36:19.739169Z",
     "start_time": "2019-07-25T11:36:19.736177Z"
    }
   },
   "outputs": [],
   "source": [
    "# Graph"
   ]
  },
  {
   "cell_type": "code",
   "execution_count": 8,
   "metadata": {
    "ExecuteTime": {
     "end_time": "2019-07-25T11:36:19.745153Z",
     "start_time": "2019-07-25T11:36:19.741165Z"
    }
   },
   "outputs": [],
   "source": [
    "# Create twitter stream and put into database\n",
    "# Put on heroku"
   ]
  },
  {
   "cell_type": "markdown",
   "metadata": {},
   "source": [
    "## Create a wordcloud of most frequented words"
   ]
  },
  {
   "cell_type": "code",
   "execution_count": 9,
   "metadata": {
    "ExecuteTime": {
     "end_time": "2019-07-25T11:36:19.751162Z",
     "start_time": "2019-07-25T11:36:19.746150Z"
    }
   },
   "outputs": [],
   "source": [
    "# Convert tweets to one string\n",
    "# Remove unnecessory word - stopword, punctuation - lemming, pronoun?\n"
   ]
  },
  {
   "cell_type": "code",
   "execution_count": 10,
   "metadata": {
    "ExecuteTime": {
     "end_time": "2019-07-25T11:36:19.763135Z",
     "start_time": "2019-07-25T11:36:19.751162Z"
    }
   },
   "outputs": [],
   "source": [
    "# Import wordcloud\n",
    "from wordcloud import WordCloud, STOPWORDS"
   ]
  },
  {
   "cell_type": "code",
   "execution_count": 11,
   "metadata": {
    "ExecuteTime": {
     "end_time": "2019-07-25T11:36:19.920714Z",
     "start_time": "2019-07-25T11:36:19.764127Z"
    }
   },
   "outputs": [
    {
     "data": {
      "image/png": "[encoded data removed]",
      "text/plain": [
       "<Figure size 432x288 with 1 Axes>"
      ]
     },
     "metadata": {
      "needs_background": "light"
     },
     "output_type": "display_data"
    }
   ],
   "source": [
    "# Step 1: Quick template\n",
    "\n",
    "# Create and generate a word cloud image:\n",
    "wordcloud = WordCloud().generate(data['Tweets'][1])\n",
    "\n",
    "# Display the generated image:\n",
    "plt.imshow(wordcloud, interpolation='bilinear')\n",
    "plt.axis(\"off\")\n",
    "plt.show()"
   ]
  },
  {
   "cell_type": "code",
   "execution_count": 12,
   "metadata": {
    "ExecuteTime": {
     "end_time": "2019-07-25T11:36:22.248176Z",
     "start_time": "2019-07-25T11:36:19.921680Z"
    }
   },
   "outputs": [
    {
     "name": "stderr",
     "output_type": "stream",
     "text": [
      "C:\\Users\\BRIAN\\Anaconda3\\lib\\site-packages\\ipykernel_launcher.py:5: DeprecationWarning: `imread` is deprecated!\n",
      "`imread` is deprecated in SciPy 1.0.0, and will be removed in 1.2.0.\n",
      "Use ``imageio.imread`` instead.\n",
      "  \"\"\"\n",
      "C:\\Users\\BRIAN\\Anaconda3\\lib\\site-packages\\wordcloud\\wordcloud.py:721: UserWarning: mask image should be unsigned byte between 0 and 255. Got a float array\n",
      "  warnings.warn(\"mask image should be unsigned byte between 0\"\n"
     ]
    },
    {
     "data": {
      "image/png": "[encoded data removed]",
      "text/plain": [
       "<Figure size 432x288 with 1 Axes>"
      ]
     },
     "metadata": {
      "needs_background": "light"
     },
     "output_type": "display_data"
    }
   ],
   "source": [
    "# Step 2: Enhance!\n",
    "\n",
    "# Import the mask so wordcloud will have a twitter bird shape:\n",
    "from scipy.misc import imread\n",
    "twitter_mask = imread('twitter_mask.png', flatten=True)\n",
    "\n",
    "# Join the whole tweets columns into one single string:\n",
    "words = ' '.join(data['Tweets'])\n",
    "\n",
    "# Create and generate a word cloud image:\n",
    "wordcloud = WordCloud(stopwords=STOPWORDS, # remove stopwords\n",
    "                      background_color='white',\n",
    "                      width=1800,\n",
    "                      height=1400,\n",
    "                      mask=twitter_mask # use twitter image as mask\n",
    "                     ).generate(words)\n",
    "\n",
    "# Display the generated image:\n",
    "plt.imshow(wordcloud, interpolation='bilinear')\n",
    "plt.axis(\"off\")\n",
    "plt.show()"
   ]
  }
 ],
 "metadata": {
  "colab": {
   "name": "Untitled29.ipynb",
   "provenance": [],
   "version": "0.3.2"
  },
  "kernelspec": {
   "display_name": "Python 3",
   "language": "python",
   "name": "python3"
  },
  "language_info": {
   "codemirror_mode": {
    "name": "ipython",
    "version": 3
   },
   "file_extension": ".py",
   "mimetype": "text/x-python",
   "name": "python",
   "nbconvert_exporter": "python",
   "pygments_lexer": "ipython3",
   "version": "3.7.3"
  },
  "toc": {
   "base_numbering": 1,
   "nav_menu": {},
   "number_sections": true,
   "sideBar": true,
   "skip_h1_title": false,
   "title_cell": "Table of Contents",
   "title_sidebar": "Contents",
   "toc_cell": false,
   "toc_position": {
    "height": "100px",
    "left": "1050.2px",
    "top": "110px",
    "width": "188.797px"
   },
   "toc_section_display": true,
   "toc_window_display": true
  }
 },
 "nbformat": 4,
 "nbformat_minor": 1
}
