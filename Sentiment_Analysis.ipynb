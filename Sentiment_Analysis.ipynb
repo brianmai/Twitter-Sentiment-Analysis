{
 "cells": [
  {
   "cell_type": "markdown",
   "metadata": {},
   "source": [
    "# Import packages"
   ]
  },
  {
   "cell_type": "code",
   "execution_count": 14,
   "metadata": {
    "ExecuteTime": {
     "end_time": "2019-07-25T10:45:12.980042Z",
     "start_time": "2019-07-25T10:45:12.977021Z"
    },
    "colab": {
     "base_uri": "https://localhost:8080/",
     "height": 387
    },
    "colab_type": "code",
    "id": "nMx2UqrJFyw-",
    "outputId": "2a1da4e3-31d4-401f-f6b0-9f693ad8d9a6"
   },
   "outputs": [],
   "source": [
    "import pandas as pd\n",
    "import tweepy\n",
    "from nltk.sentiment.vader import SentimentIntensityAnalyzer\n",
    "\n",
    "import matplotlib.pyplot as plt"
   ]
  },
  {
   "cell_type": "markdown",
   "metadata": {},
   "source": [
    "# Get data from Twitter API & Assess polarity score"
   ]
  },
  {
   "cell_type": "code",
   "execution_count": 2,
   "metadata": {
    "ExecuteTime": {
     "end_time": "2019-07-25T10:04:06.052131Z",
     "start_time": "2019-07-25T10:04:06.049139Z"
    },
    "colab": {},
    "colab_type": "code",
    "id": "xoeDu5guGo-N"
   },
   "outputs": [],
   "source": [
    "#Setup Twitter API Authentication Variables to get tweets\n",
    "consumer_key = 'RxH0MdZ9KelMW8aCdSJX7VLWp'\n",
    "consumer_secret = 'ReGejlpQWMgM0lSMycvkNTeSqNqShTVYvfoovB2lhHahumDEbd'\n",
    "access_token = '1127315289303945217-wJuzP9pLaghnX8pGQTiDeUodDeVQXO'\n",
    "access_token_secret = 'UZMXTNjU5eJUfQC9ytx8ZvoPrtFfsSyjdVc5b8YJrJ4eT'"
   ]
  },
  {
   "cell_type": "code",
   "execution_count": 3,
   "metadata": {
    "ExecuteTime": {
     "end_time": "2019-07-25T10:04:10.008097Z",
     "start_time": "2019-07-25T10:04:09.409835Z"
    },
    "colab": {
     "base_uri": "https://localhost:8080/",
     "height": 376
    },
    "colab_type": "code",
    "id": "i41rn4KkG-iz",
    "outputId": "0243083f-626d-4df7-e974-f51e1e9d7790"
   },
   "outputs": [
    {
     "data": {
      "text/html": [
       "<div>\n",
       "<style scoped>\n",
       "    .dataframe tbody tr th:only-of-type {\n",
       "        vertical-align: middle;\n",
       "    }\n",
       "\n",
       "    .dataframe tbody tr th {\n",
       "        vertical-align: top;\n",
       "    }\n",
       "\n",
       "    .dataframe thead th {\n",
       "        text-align: right;\n",
       "    }\n",
       "</style>\n",
       "<table border=\"1\" class=\"dataframe\">\n",
       "  <thead>\n",
       "    <tr style=\"text-align: right;\">\n",
       "      <th></th>\n",
       "      <th>Tweets</th>\n",
       "    </tr>\n",
       "  </thead>\n",
       "  <tbody>\n",
       "    <tr>\n",
       "      <th>0</th>\n",
       "      <td>Demystifying Artificial Intelligence: #AI for ...</td>\n",
       "    </tr>\n",
       "    <tr>\n",
       "      <th>1</th>\n",
       "      <td>RT @niet_grnoida: NIET is all set to witness a...</td>\n",
       "    </tr>\n",
       "    <tr>\n",
       "      <th>2</th>\n",
       "      <td>RT @NclsData: Artificial Intelligence Versus E...</td>\n",
       "    </tr>\n",
       "    <tr>\n",
       "      <th>3</th>\n",
       "      <td>RT @WhatTheFFacts: Google's Artificial-Intelli...</td>\n",
       "    </tr>\n",
       "    <tr>\n",
       "      <th>4</th>\n",
       "      <td>RT @amazingg_nature: https://t.co/rjJrQ2aDjN</td>\n",
       "    </tr>\n",
       "    <tr>\n",
       "      <th>5</th>\n",
       "      <td>RT @martakosmyna: The @BanKillerRobots team is...</td>\n",
       "    </tr>\n",
       "    <tr>\n",
       "      <th>6</th>\n",
       "      <td>RT @BW: This 12-foot-long, 3-ton autonomous su...</td>\n",
       "    </tr>\n",
       "    <tr>\n",
       "      <th>7</th>\n",
       "      <td>RT @Reading_Addicts: Artificial intelligence c...</td>\n",
       "    </tr>\n",
       "    <tr>\n",
       "      <th>8</th>\n",
       "      <td>RT @nordicinst: Limitations of Artificial Inte...</td>\n",
       "    </tr>\n",
       "    <tr>\n",
       "      <th>9</th>\n",
       "      <td>RT @adamliaw: I love Facebook and I have no qu...</td>\n",
       "    </tr>\n",
       "  </tbody>\n",
       "</table>\n",
       "</div>"
      ],
      "text/plain": [
       "                                              Tweets\n",
       "0  Demystifying Artificial Intelligence: #AI for ...\n",
       "1  RT @niet_grnoida: NIET is all set to witness a...\n",
       "2  RT @NclsData: Artificial Intelligence Versus E...\n",
       "3  RT @WhatTheFFacts: Google's Artificial-Intelli...\n",
       "4       RT @amazingg_nature: https://t.co/rjJrQ2aDjN\n",
       "5  RT @martakosmyna: The @BanKillerRobots team is...\n",
       "6  RT @BW: This 12-foot-long, 3-ton autonomous su...\n",
       "7  RT @Reading_Addicts: Artificial intelligence c...\n",
       "8  RT @nordicinst: Limitations of Artificial Inte...\n",
       "9  RT @adamliaw: I love Facebook and I have no qu..."
      ]
     },
     "metadata": {},
     "output_type": "display_data"
    },
    {
     "name": "stdout",
     "output_type": "stream",
     "text": [
      "2019-07-25 10:03:21\n"
     ]
    }
   ],
   "source": [
    "auth = tweepy.OAuthHandler(consumer_key, consumer_secret)\n",
    "auth.set_access_token(access_token, access_token_secret)\n",
    "\n",
    "api = tweepy.API(auth)\n",
    "\n",
    "tweets = api.search('Artificial Intelligence', count=200)\n",
    "\n",
    "\n",
    "data = pd.DataFrame(data=[tweet.text for tweet in tweets], columns=['Tweets'])\n",
    "\n",
    "display(data.head(10))\n",
    "\n",
    "\n",
    "print(tweets[0].created_at)\n"
   ]
  },
  {
   "cell_type": "code",
   "execution_count": 4,
   "metadata": {
    "ExecuteTime": {
     "end_time": "2019-07-25T10:04:36.842767Z",
     "start_time": "2019-07-25T10:04:36.736907Z"
    },
    "colab": {
     "base_uri": "https://localhost:8080/",
     "height": 69
    },
    "colab_type": "code",
    "id": "6k_z5lpRIN4t",
    "outputId": "e5f77812-a407-4ed0-8198-240dd01b2bec"
   },
   "outputs": [
    {
     "name": "stderr",
     "output_type": "stream",
     "text": [
      "[nltk_data] Downloading package vader_lexicon to\n",
      "[nltk_data]     C:\\Users\\BRIAN\\AppData\\Roaming\\nltk_data...\n",
      "[nltk_data]   Package vader_lexicon is already up-to-date!\n"
     ]
    },
    {
     "data": {
      "text/plain": [
       "True"
      ]
     },
     "execution_count": 4,
     "metadata": {},
     "output_type": "execute_result"
    }
   ],
   "source": [
    "import nltk\n",
    "nltk.download('vader_lexicon')"
   ]
  },
  {
   "cell_type": "code",
   "execution_count": 5,
   "metadata": {
    "ExecuteTime": {
     "end_time": "2019-07-25T10:04:38.558208Z",
     "start_time": "2019-07-25T10:04:38.498361Z"
    },
    "colab": {
     "base_uri": "https://localhost:8080/",
     "height": 1969
    },
    "colab_type": "code",
    "id": "kQiYGQEqIZ3w",
    "outputId": "35c11ad4-4e98-4d25-c32a-0b627a3e5d90",
    "scrolled": true
   },
   "outputs": [
    {
     "data": {
      "text/html": [
       "<div>\n",
       "<style scoped>\n",
       "    .dataframe tbody tr th:only-of-type {\n",
       "        vertical-align: middle;\n",
       "    }\n",
       "\n",
       "    .dataframe tbody tr th {\n",
       "        vertical-align: top;\n",
       "    }\n",
       "\n",
       "    .dataframe thead th {\n",
       "        text-align: right;\n",
       "    }\n",
       "</style>\n",
       "<table border=\"1\" class=\"dataframe\">\n",
       "  <thead>\n",
       "    <tr style=\"text-align: right;\">\n",
       "      <th></th>\n",
       "      <th>Tweets</th>\n",
       "      <th>polarity</th>\n",
       "    </tr>\n",
       "  </thead>\n",
       "  <tbody>\n",
       "    <tr>\n",
       "      <th>0</th>\n",
       "      <td>Demystifying Artificial Intelligence: #AI for ...</td>\n",
       "      <td>{'neg': 0.0, 'neu': 0.543, 'pos': 0.457, 'comp...</td>\n",
       "    </tr>\n",
       "    <tr>\n",
       "      <th>1</th>\n",
       "      <td>RT @niet_grnoida: NIET is all set to witness a...</td>\n",
       "      <td>{'neg': 0.0, 'neu': 0.88, 'pos': 0.12, 'compou...</td>\n",
       "    </tr>\n",
       "    <tr>\n",
       "      <th>2</th>\n",
       "      <td>RT @NclsData: Artificial Intelligence Versus E...</td>\n",
       "      <td>{'neg': 0.0, 'neu': 0.585, 'pos': 0.415, 'comp...</td>\n",
       "    </tr>\n",
       "    <tr>\n",
       "      <th>3</th>\n",
       "      <td>RT @WhatTheFFacts: Google's Artificial-Intelli...</td>\n",
       "      <td>{'neg': 0.0, 'neu': 1.0, 'pos': 0.0, 'compound...</td>\n",
       "    </tr>\n",
       "    <tr>\n",
       "      <th>4</th>\n",
       "      <td>RT @amazingg_nature: https://t.co/rjJrQ2aDjN</td>\n",
       "      <td>{'neg': 0.0, 'neu': 1.0, 'pos': 0.0, 'compound...</td>\n",
       "    </tr>\n",
       "    <tr>\n",
       "      <th>5</th>\n",
       "      <td>RT @martakosmyna: The @BanKillerRobots team is...</td>\n",
       "      <td>{'neg': 0.0, 'neu': 0.888, 'pos': 0.112, 'comp...</td>\n",
       "    </tr>\n",
       "    <tr>\n",
       "      <th>6</th>\n",
       "      <td>RT @BW: This 12-foot-long, 3-ton autonomous su...</td>\n",
       "      <td>{'neg': 0.0, 'neu': 0.866, 'pos': 0.134, 'comp...</td>\n",
       "    </tr>\n",
       "    <tr>\n",
       "      <th>7</th>\n",
       "      <td>RT @Reading_Addicts: Artificial intelligence c...</td>\n",
       "      <td>{'neg': 0.0, 'neu': 0.78, 'pos': 0.22, 'compou...</td>\n",
       "    </tr>\n",
       "    <tr>\n",
       "      <th>8</th>\n",
       "      <td>RT @nordicinst: Limitations of Artificial Inte...</td>\n",
       "      <td>{'neg': 0.0, 'neu': 0.78, 'pos': 0.22, 'compou...</td>\n",
       "    </tr>\n",
       "    <tr>\n",
       "      <th>9</th>\n",
       "      <td>RT @adamliaw: I love Facebook and I have no qu...</td>\n",
       "      <td>{'neg': 0.178, 'neu': 0.667, 'pos': 0.156, 'co...</td>\n",
       "    </tr>\n",
       "    <tr>\n",
       "      <th>10</th>\n",
       "      <td>Artificial Intelligence Versus Emotional Intel...</td>\n",
       "      <td>{'neg': 0.0, 'neu': 0.506, 'pos': 0.494, 'comp...</td>\n",
       "    </tr>\n",
       "    <tr>\n",
       "      <th>11</th>\n",
       "      <td>RT @ipfconline1: Artificial Intelligence Knowl...</td>\n",
       "      <td>{'neg': 0.0, 'neu': 0.819, 'pos': 0.181, 'comp...</td>\n",
       "    </tr>\n",
       "    <tr>\n",
       "      <th>12</th>\n",
       "      <td>Man Vs. Machine: The 6 Greatest AI Challenges ...</td>\n",
       "      <td>{'neg': 0.0, 'neu': 0.583, 'pos': 0.417, 'comp...</td>\n",
       "    </tr>\n",
       "    <tr>\n",
       "      <th>13</th>\n",
       "      <td>RT @ProGDPR: There's a dark secret at the hear...</td>\n",
       "      <td>{'neg': 0.099, 'neu': 0.762, 'pos': 0.139, 'co...</td>\n",
       "    </tr>\n",
       "    <tr>\n",
       "      <th>14</th>\n",
       "      <td>RT @simon_mulready: “Artificial Intelligence i...</td>\n",
       "      <td>{'neg': 0.0, 'neu': 0.766, 'pos': 0.234, 'comp...</td>\n",
       "    </tr>\n",
       "    <tr>\n",
       "      <th>15</th>\n",
       "      <td>RT @ai_saidot: \"Towards AI Transparency: Four ...</td>\n",
       "      <td>{'neg': 0.0, 'neu': 0.714, 'pos': 0.286, 'comp...</td>\n",
       "    </tr>\n",
       "    <tr>\n",
       "      <th>16</th>\n",
       "      <td>RT @CapitalSpace_Tz: Have a chance to learn an...</td>\n",
       "      <td>{'neg': 0.0, 'neu': 0.7, 'pos': 0.3, 'compound...</td>\n",
       "    </tr>\n",
       "    <tr>\n",
       "      <th>17</th>\n",
       "      <td>Why an “AI Race” Between the U.S. and China Is...</td>\n",
       "      <td>{'neg': 0.279, 'neu': 0.721, 'pos': 0.0, 'comp...</td>\n",
       "    </tr>\n",
       "    <tr>\n",
       "      <th>18</th>\n",
       "      <td>Reinventing Cybersecurity with Artificial Inte...</td>\n",
       "      <td>{'neg': 0.0, 'neu': 0.617, 'pos': 0.383, 'comp...</td>\n",
       "    </tr>\n",
       "    <tr>\n",
       "      <th>19</th>\n",
       "      <td>Artificial Intelligence In Aviation Market Ben...</td>\n",
       "      <td>{'neg': 0.0, 'neu': 0.695, 'pos': 0.305, 'comp...</td>\n",
       "    </tr>\n",
       "    <tr>\n",
       "      <th>20</th>\n",
       "      <td>L'IA prend ses quartiers au cœur de Sorbonne U...</td>\n",
       "      <td>{'neg': 0.0, 'neu': 0.846, 'pos': 0.154, 'comp...</td>\n",
       "    </tr>\n",
       "    <tr>\n",
       "      <th>21</th>\n",
       "      <td>How we plan to use #AI and #deeplearning, to p...</td>\n",
       "      <td>{'neg': 0.0, 'neu': 0.838, 'pos': 0.162, 'comp...</td>\n",
       "    </tr>\n",
       "    <tr>\n",
       "      <th>22</th>\n",
       "      <td>Why should deep learning AI matter to retailer...</td>\n",
       "      <td>{'neg': 0.0, 'neu': 0.724, 'pos': 0.276, 'comp...</td>\n",
       "    </tr>\n",
       "    <tr>\n",
       "      <th>23</th>\n",
       "      <td>What Are MicroBuilds in AI And Why Are They So...</td>\n",
       "      <td>{'neg': 0.0, 'neu': 0.853, 'pos': 0.147, 'comp...</td>\n",
       "    </tr>\n",
       "    <tr>\n",
       "      <th>24</th>\n",
       "      <td>Beiräte/Experten vorgestellt - Michael Feindt,...</td>\n",
       "      <td>{'neg': 0.0, 'neu': 0.721, 'pos': 0.279, 'comp...</td>\n",
       "    </tr>\n",
       "    <tr>\n",
       "      <th>25</th>\n",
       "      <td>Watch or Download the @MicronTech commissioned...</td>\n",
       "      <td>{'neg': 0.0, 'neu': 1.0, 'pos': 0.0, 'compound...</td>\n",
       "    </tr>\n",
       "    <tr>\n",
       "      <th>26</th>\n",
       "      <td>This Is How Artificial Intelligence Is Unleash...</td>\n",
       "      <td>{'neg': 0.0, 'neu': 0.659, 'pos': 0.341, 'comp...</td>\n",
       "    </tr>\n",
       "    <tr>\n",
       "      <th>27</th>\n",
       "      <td>IAM Platform Curated Tweet:\\n\\n#TopInfluence\\n...</td>\n",
       "      <td>{'neg': 0.0, 'neu': 0.838, 'pos': 0.162, 'comp...</td>\n",
       "    </tr>\n",
       "    <tr>\n",
       "      <th>28</th>\n",
       "      <td>RT @Fingent: 4 Ways Artificial Intelligence Ca...</td>\n",
       "      <td>{'neg': 0.0, 'neu': 0.667, 'pos': 0.333, 'comp...</td>\n",
       "    </tr>\n",
       "    <tr>\n",
       "      <th>29</th>\n",
       "      <td>Artificial intelligence for materials discover...</td>\n",
       "      <td>{'neg': 0.0, 'neu': 0.604, 'pos': 0.396, 'comp...</td>\n",
       "    </tr>\n",
       "    <tr>\n",
       "      <th>...</th>\n",
       "      <td>...</td>\n",
       "      <td>...</td>\n",
       "    </tr>\n",
       "    <tr>\n",
       "      <th>65</th>\n",
       "      <td>RT @babyy_girlss: https://t.co/hs6LaTOzMJ</td>\n",
       "      <td>{'neg': 0.0, 'neu': 1.0, 'pos': 0.0, 'compound...</td>\n",
       "    </tr>\n",
       "    <tr>\n",
       "      <th>66</th>\n",
       "      <td>@ai_bottos Bottos Chain!\\nBuilding All-In-One ...</td>\n",
       "      <td>{'neg': 0.0, 'neu': 0.792, 'pos': 0.208, 'comp...</td>\n",
       "    </tr>\n",
       "    <tr>\n",
       "      <th>67</th>\n",
       "      <td>RT @babyy_girlss: https://t.co/hs6LaTOzMJ</td>\n",
       "      <td>{'neg': 0.0, 'neu': 1.0, 'pos': 0.0, 'compound...</td>\n",
       "    </tr>\n",
       "    <tr>\n",
       "      <th>68</th>\n",
       "      <td>RT @Capt_SurajYadav: Short Story 08.07.2019\\n\\...</td>\n",
       "      <td>{'neg': 0.0, 'neu': 0.86, 'pos': 0.14, 'compou...</td>\n",
       "    </tr>\n",
       "    <tr>\n",
       "      <th>69</th>\n",
       "      <td>RT @IainLJBrown: Artificial intelligence is ch...</td>\n",
       "      <td>{'neg': 0.0, 'neu': 0.829, 'pos': 0.171, 'comp...</td>\n",
       "    </tr>\n",
       "    <tr>\n",
       "      <th>70</th>\n",
       "      <td>RT @jolokiadotcom: Right now, Artificial Intel...</td>\n",
       "      <td>{'neg': 0.0, 'neu': 0.861, 'pos': 0.139, 'comp...</td>\n",
       "    </tr>\n",
       "    <tr>\n",
       "      <th>71</th>\n",
       "      <td>RT @BigData_Joe: RT @ \"(Artificial Intelligenc...</td>\n",
       "      <td>{'neg': 0.0, 'neu': 1.0, 'pos': 0.0, 'compound...</td>\n",
       "    </tr>\n",
       "    <tr>\n",
       "      <th>72</th>\n",
       "      <td>RT @MatadePunam: Global Artificial Intelligenc...</td>\n",
       "      <td>{'neg': 0.0, 'neu': 0.838, 'pos': 0.162, 'comp...</td>\n",
       "    </tr>\n",
       "    <tr>\n",
       "      <th>73</th>\n",
       "      <td>RT @IainLJBrown: Automotive Artificial Intelli...</td>\n",
       "      <td>{'neg': 0.0, 'neu': 0.737, 'pos': 0.263, 'comp...</td>\n",
       "    </tr>\n",
       "    <tr>\n",
       "      <th>74</th>\n",
       "      <td>RT @thetrollscritic: Dear #TeamJackye and ever...</td>\n",
       "      <td>{'neg': 0.07, 'neu': 0.558, 'pos': 0.372, 'com...</td>\n",
       "    </tr>\n",
       "    <tr>\n",
       "      <th>75</th>\n",
       "      <td>AI top interest for Emirati youth: Minister of...</td>\n",
       "      <td>{'neg': 0.0, 'neu': 0.559, 'pos': 0.441, 'comp...</td>\n",
       "    </tr>\n",
       "    <tr>\n",
       "      <th>76</th>\n",
       "      <td>RT @eijiaraki: 人工知能がArtificial Intelligence（A....</td>\n",
       "      <td>{'neg': 0.0, 'neu': 1.0, 'pos': 0.0, 'compound...</td>\n",
       "    </tr>\n",
       "    <tr>\n",
       "      <th>77</th>\n",
       "      <td>RT @MIT_CSAIL: RIP to AI pioneer Patrick Winst...</td>\n",
       "      <td>{'neg': 0.0, 'neu': 0.78, 'pos': 0.22, 'compou...</td>\n",
       "    </tr>\n",
       "    <tr>\n",
       "      <th>78</th>\n",
       "      <td>Predicting #cancer risk and detecting eye dise...</td>\n",
       "      <td>{'neg': 0.082, 'neu': 0.706, 'pos': 0.212, 'co...</td>\n",
       "    </tr>\n",
       "    <tr>\n",
       "      <th>79</th>\n",
       "      <td>Artificial intelligence solution improves clin...</td>\n",
       "      <td>{'neg': 0.0, 'neu': 0.494, 'pos': 0.506, 'comp...</td>\n",
       "    </tr>\n",
       "    <tr>\n",
       "      <th>80</th>\n",
       "      <td>RT @shehackspurple: Microsoft has created a fr...</td>\n",
       "      <td>{'neg': 0.0, 'neu': 0.773, 'pos': 0.227, 'comp...</td>\n",
       "    </tr>\n",
       "    <tr>\n",
       "      <th>81</th>\n",
       "      <td>Elon Musk believes that connecting our brains ...</td>\n",
       "      <td>{'neg': 0.0, 'neu': 1.0, 'pos': 0.0, 'compound...</td>\n",
       "    </tr>\n",
       "    <tr>\n",
       "      <th>82</th>\n",
       "      <td>RT @VeenaDeswal: मोदी राज में युवाओं के लिए बु...</td>\n",
       "      <td>{'neg': 0.0, 'neu': 1.0, 'pos': 0.0, 'compound...</td>\n",
       "    </tr>\n",
       "    <tr>\n",
       "      <th>83</th>\n",
       "      <td>Corpus linguistics can help develop novel theo...</td>\n",
       "      <td>{'neg': 0.0, 'neu': 0.75, 'pos': 0.25, 'compou...</td>\n",
       "    </tr>\n",
       "    <tr>\n",
       "      <th>84</th>\n",
       "      <td>RT @VeenaDeswal: मोदी राज में युवाओं के लिए बु...</td>\n",
       "      <td>{'neg': 0.0, 'neu': 1.0, 'pos': 0.0, 'compound...</td>\n",
       "    </tr>\n",
       "    <tr>\n",
       "      <th>85</th>\n",
       "      <td>Automotive Artificial Intelligence (AI) Market...</td>\n",
       "      <td>{'neg': 0.0, 'neu': 0.695, 'pos': 0.305, 'comp...</td>\n",
       "    </tr>\n",
       "    <tr>\n",
       "      <th>86</th>\n",
       "      <td>RT @IainLJBrown: Artificial intelligence is ch...</td>\n",
       "      <td>{'neg': 0.0, 'neu': 0.829, 'pos': 0.171, 'comp...</td>\n",
       "    </tr>\n",
       "    <tr>\n",
       "      <th>87</th>\n",
       "      <td>少し前にも見た気がするけど、とりあえず5人やってみて正解率100%であった…パット見ではわか...</td>\n",
       "      <td>{'neg': 0.0, 'neu': 1.0, 'pos': 0.0, 'compound...</td>\n",
       "    </tr>\n",
       "    <tr>\n",
       "      <th>88</th>\n",
       "      <td>RT @babyy_girlss: https://t.co/hs6LaTOzMJ</td>\n",
       "      <td>{'neg': 0.0, 'neu': 1.0, 'pos': 0.0, 'compound...</td>\n",
       "    </tr>\n",
       "    <tr>\n",
       "      <th>89</th>\n",
       "      <td>https://t.co/t2dkYdbtLc 15 mins until webcast ...</td>\n",
       "      <td>{'neg': 0.153, 'neu': 0.623, 'pos': 0.224, 'co...</td>\n",
       "    </tr>\n",
       "    <tr>\n",
       "      <th>90</th>\n",
       "      <td>Today, #ArtificialIntelligence has become a ne...</td>\n",
       "      <td>{'neg': 0.0, 'neu': 1.0, 'pos': 0.0, 'compound...</td>\n",
       "    </tr>\n",
       "    <tr>\n",
       "      <th>91</th>\n",
       "      <td>RT @babyy_girlss: https://t.co/hs6LaTOzMJ</td>\n",
       "      <td>{'neg': 0.0, 'neu': 1.0, 'pos': 0.0, 'compound...</td>\n",
       "    </tr>\n",
       "    <tr>\n",
       "      <th>92</th>\n",
       "      <td>RT @AiThority: The Role of Artificial Intellig...</td>\n",
       "      <td>{'neg': 0.0, 'neu': 0.807, 'pos': 0.193, 'comp...</td>\n",
       "    </tr>\n",
       "    <tr>\n",
       "      <th>93</th>\n",
       "      <td>RT @MIT_CSAIL: RIP to AI pioneer Patrick Winst...</td>\n",
       "      <td>{'neg': 0.0, 'neu': 0.78, 'pos': 0.22, 'compou...</td>\n",
       "    </tr>\n",
       "    <tr>\n",
       "      <th>94</th>\n",
       "      <td>Have a chance to learn and experience the bene...</td>\n",
       "      <td>{'neg': 0.0, 'neu': 0.688, 'pos': 0.312, 'comp...</td>\n",
       "    </tr>\n",
       "  </tbody>\n",
       "</table>\n",
       "<p>95 rows × 2 columns</p>\n",
       "</div>"
      ],
      "text/plain": [
       "                                               Tweets  \\\n",
       "0   Demystifying Artificial Intelligence: #AI for ...   \n",
       "1   RT @niet_grnoida: NIET is all set to witness a...   \n",
       "2   RT @NclsData: Artificial Intelligence Versus E...   \n",
       "3   RT @WhatTheFFacts: Google's Artificial-Intelli...   \n",
       "4        RT @amazingg_nature: https://t.co/rjJrQ2aDjN   \n",
       "5   RT @martakosmyna: The @BanKillerRobots team is...   \n",
       "6   RT @BW: This 12-foot-long, 3-ton autonomous su...   \n",
       "7   RT @Reading_Addicts: Artificial intelligence c...   \n",
       "8   RT @nordicinst: Limitations of Artificial Inte...   \n",
       "9   RT @adamliaw: I love Facebook and I have no qu...   \n",
       "10  Artificial Intelligence Versus Emotional Intel...   \n",
       "11  RT @ipfconline1: Artificial Intelligence Knowl...   \n",
       "12  Man Vs. Machine: The 6 Greatest AI Challenges ...   \n",
       "13  RT @ProGDPR: There's a dark secret at the hear...   \n",
       "14  RT @simon_mulready: “Artificial Intelligence i...   \n",
       "15  RT @ai_saidot: \"Towards AI Transparency: Four ...   \n",
       "16  RT @CapitalSpace_Tz: Have a chance to learn an...   \n",
       "17  Why an “AI Race” Between the U.S. and China Is...   \n",
       "18  Reinventing Cybersecurity with Artificial Inte...   \n",
       "19  Artificial Intelligence In Aviation Market Ben...   \n",
       "20  L'IA prend ses quartiers au cœur de Sorbonne U...   \n",
       "21  How we plan to use #AI and #deeplearning, to p...   \n",
       "22  Why should deep learning AI matter to retailer...   \n",
       "23  What Are MicroBuilds in AI And Why Are They So...   \n",
       "24  Beiräte/Experten vorgestellt - Michael Feindt,...   \n",
       "25  Watch or Download the @MicronTech commissioned...   \n",
       "26  This Is How Artificial Intelligence Is Unleash...   \n",
       "27  IAM Platform Curated Tweet:\\n\\n#TopInfluence\\n...   \n",
       "28  RT @Fingent: 4 Ways Artificial Intelligence Ca...   \n",
       "29  Artificial intelligence for materials discover...   \n",
       "..                                                ...   \n",
       "65          RT @babyy_girlss: https://t.co/hs6LaTOzMJ   \n",
       "66  @ai_bottos Bottos Chain!\\nBuilding All-In-One ...   \n",
       "67          RT @babyy_girlss: https://t.co/hs6LaTOzMJ   \n",
       "68  RT @Capt_SurajYadav: Short Story 08.07.2019\\n\\...   \n",
       "69  RT @IainLJBrown: Artificial intelligence is ch...   \n",
       "70  RT @jolokiadotcom: Right now, Artificial Intel...   \n",
       "71  RT @BigData_Joe: RT @ \"(Artificial Intelligenc...   \n",
       "72  RT @MatadePunam: Global Artificial Intelligenc...   \n",
       "73  RT @IainLJBrown: Automotive Artificial Intelli...   \n",
       "74  RT @thetrollscritic: Dear #TeamJackye and ever...   \n",
       "75  AI top interest for Emirati youth: Minister of...   \n",
       "76  RT @eijiaraki: 人工知能がArtificial Intelligence（A....   \n",
       "77  RT @MIT_CSAIL: RIP to AI pioneer Patrick Winst...   \n",
       "78  Predicting #cancer risk and detecting eye dise...   \n",
       "79  Artificial intelligence solution improves clin...   \n",
       "80  RT @shehackspurple: Microsoft has created a fr...   \n",
       "81  Elon Musk believes that connecting our brains ...   \n",
       "82  RT @VeenaDeswal: मोदी राज में युवाओं के लिए बु...   \n",
       "83  Corpus linguistics can help develop novel theo...   \n",
       "84  RT @VeenaDeswal: मोदी राज में युवाओं के लिए बु...   \n",
       "85  Automotive Artificial Intelligence (AI) Market...   \n",
       "86  RT @IainLJBrown: Artificial intelligence is ch...   \n",
       "87  少し前にも見た気がするけど、とりあえず5人やってみて正解率100%であった…パット見ではわか...   \n",
       "88          RT @babyy_girlss: https://t.co/hs6LaTOzMJ   \n",
       "89  https://t.co/t2dkYdbtLc 15 mins until webcast ...   \n",
       "90  Today, #ArtificialIntelligence has become a ne...   \n",
       "91          RT @babyy_girlss: https://t.co/hs6LaTOzMJ   \n",
       "92  RT @AiThority: The Role of Artificial Intellig...   \n",
       "93  RT @MIT_CSAIL: RIP to AI pioneer Patrick Winst...   \n",
       "94  Have a chance to learn and experience the bene...   \n",
       "\n",
       "                                             polarity  \n",
       "0   {'neg': 0.0, 'neu': 0.543, 'pos': 0.457, 'comp...  \n",
       "1   {'neg': 0.0, 'neu': 0.88, 'pos': 0.12, 'compou...  \n",
       "2   {'neg': 0.0, 'neu': 0.585, 'pos': 0.415, 'comp...  \n",
       "3   {'neg': 0.0, 'neu': 1.0, 'pos': 0.0, 'compound...  \n",
       "4   {'neg': 0.0, 'neu': 1.0, 'pos': 0.0, 'compound...  \n",
       "5   {'neg': 0.0, 'neu': 0.888, 'pos': 0.112, 'comp...  \n",
       "6   {'neg': 0.0, 'neu': 0.866, 'pos': 0.134, 'comp...  \n",
       "7   {'neg': 0.0, 'neu': 0.78, 'pos': 0.22, 'compou...  \n",
       "8   {'neg': 0.0, 'neu': 0.78, 'pos': 0.22, 'compou...  \n",
       "9   {'neg': 0.178, 'neu': 0.667, 'pos': 0.156, 'co...  \n",
       "10  {'neg': 0.0, 'neu': 0.506, 'pos': 0.494, 'comp...  \n",
       "11  {'neg': 0.0, 'neu': 0.819, 'pos': 0.181, 'comp...  \n",
       "12  {'neg': 0.0, 'neu': 0.583, 'pos': 0.417, 'comp...  \n",
       "13  {'neg': 0.099, 'neu': 0.762, 'pos': 0.139, 'co...  \n",
       "14  {'neg': 0.0, 'neu': 0.766, 'pos': 0.234, 'comp...  \n",
       "15  {'neg': 0.0, 'neu': 0.714, 'pos': 0.286, 'comp...  \n",
       "16  {'neg': 0.0, 'neu': 0.7, 'pos': 0.3, 'compound...  \n",
       "17  {'neg': 0.279, 'neu': 0.721, 'pos': 0.0, 'comp...  \n",
       "18  {'neg': 0.0, 'neu': 0.617, 'pos': 0.383, 'comp...  \n",
       "19  {'neg': 0.0, 'neu': 0.695, 'pos': 0.305, 'comp...  \n",
       "20  {'neg': 0.0, 'neu': 0.846, 'pos': 0.154, 'comp...  \n",
       "21  {'neg': 0.0, 'neu': 0.838, 'pos': 0.162, 'comp...  \n",
       "22  {'neg': 0.0, 'neu': 0.724, 'pos': 0.276, 'comp...  \n",
       "23  {'neg': 0.0, 'neu': 0.853, 'pos': 0.147, 'comp...  \n",
       "24  {'neg': 0.0, 'neu': 0.721, 'pos': 0.279, 'comp...  \n",
       "25  {'neg': 0.0, 'neu': 1.0, 'pos': 0.0, 'compound...  \n",
       "26  {'neg': 0.0, 'neu': 0.659, 'pos': 0.341, 'comp...  \n",
       "27  {'neg': 0.0, 'neu': 0.838, 'pos': 0.162, 'comp...  \n",
       "28  {'neg': 0.0, 'neu': 0.667, 'pos': 0.333, 'comp...  \n",
       "29  {'neg': 0.0, 'neu': 0.604, 'pos': 0.396, 'comp...  \n",
       "..                                                ...  \n",
       "65  {'neg': 0.0, 'neu': 1.0, 'pos': 0.0, 'compound...  \n",
       "66  {'neg': 0.0, 'neu': 0.792, 'pos': 0.208, 'comp...  \n",
       "67  {'neg': 0.0, 'neu': 1.0, 'pos': 0.0, 'compound...  \n",
       "68  {'neg': 0.0, 'neu': 0.86, 'pos': 0.14, 'compou...  \n",
       "69  {'neg': 0.0, 'neu': 0.829, 'pos': 0.171, 'comp...  \n",
       "70  {'neg': 0.0, 'neu': 0.861, 'pos': 0.139, 'comp...  \n",
       "71  {'neg': 0.0, 'neu': 1.0, 'pos': 0.0, 'compound...  \n",
       "72  {'neg': 0.0, 'neu': 0.838, 'pos': 0.162, 'comp...  \n",
       "73  {'neg': 0.0, 'neu': 0.737, 'pos': 0.263, 'comp...  \n",
       "74  {'neg': 0.07, 'neu': 0.558, 'pos': 0.372, 'com...  \n",
       "75  {'neg': 0.0, 'neu': 0.559, 'pos': 0.441, 'comp...  \n",
       "76  {'neg': 0.0, 'neu': 1.0, 'pos': 0.0, 'compound...  \n",
       "77  {'neg': 0.0, 'neu': 0.78, 'pos': 0.22, 'compou...  \n",
       "78  {'neg': 0.082, 'neu': 0.706, 'pos': 0.212, 'co...  \n",
       "79  {'neg': 0.0, 'neu': 0.494, 'pos': 0.506, 'comp...  \n",
       "80  {'neg': 0.0, 'neu': 0.773, 'pos': 0.227, 'comp...  \n",
       "81  {'neg': 0.0, 'neu': 1.0, 'pos': 0.0, 'compound...  \n",
       "82  {'neg': 0.0, 'neu': 1.0, 'pos': 0.0, 'compound...  \n",
       "83  {'neg': 0.0, 'neu': 0.75, 'pos': 0.25, 'compou...  \n",
       "84  {'neg': 0.0, 'neu': 1.0, 'pos': 0.0, 'compound...  \n",
       "85  {'neg': 0.0, 'neu': 0.695, 'pos': 0.305, 'comp...  \n",
       "86  {'neg': 0.0, 'neu': 0.829, 'pos': 0.171, 'comp...  \n",
       "87  {'neg': 0.0, 'neu': 1.0, 'pos': 0.0, 'compound...  \n",
       "88  {'neg': 0.0, 'neu': 1.0, 'pos': 0.0, 'compound...  \n",
       "89  {'neg': 0.153, 'neu': 0.623, 'pos': 0.224, 'co...  \n",
       "90  {'neg': 0.0, 'neu': 1.0, 'pos': 0.0, 'compound...  \n",
       "91  {'neg': 0.0, 'neu': 1.0, 'pos': 0.0, 'compound...  \n",
       "92  {'neg': 0.0, 'neu': 0.807, 'pos': 0.193, 'comp...  \n",
       "93  {'neg': 0.0, 'neu': 0.78, 'pos': 0.22, 'compou...  \n",
       "94  {'neg': 0.0, 'neu': 0.688, 'pos': 0.312, 'comp...  \n",
       "\n",
       "[95 rows x 2 columns]"
      ]
     },
     "metadata": {},
     "output_type": "display_data"
    }
   ],
   "source": [
    "sid = SentimentIntensityAnalyzer()\n",
    "\n",
    "\n",
    "listy = []\n",
    "\n",
    "for index, row in data.iterrows():\n",
    "  ss = sid.polarity_scores(row[\"Tweets\"])\n",
    "  listy.append(ss)\n",
    "  \n",
    "se = pd.Series(listy)\n",
    "data['polarity'] = se.values\n",
    "\n",
    "display(data.head(100))"
   ]
  },
  {
   "cell_type": "code",
   "execution_count": 6,
   "metadata": {
    "ExecuteTime": {
     "end_time": "2019-07-25T10:04:40.211910Z",
     "start_time": "2019-07-25T10:04:40.208891Z"
    }
   },
   "outputs": [
    {
     "data": {
      "text/plain": [
       "'RT @niet_grnoida: NIET is all set to witness another golden feather in its hat with the establishment of INTEL Intelligent Systems Lab whic…'"
      ]
     },
     "execution_count": 6,
     "metadata": {},
     "output_type": "execute_result"
    }
   ],
   "source": [
    "data['Tweets'][1]"
   ]
  },
  {
   "cell_type": "markdown",
   "metadata": {},
   "source": [
    "# Data Analysis"
   ]
  },
  {
   "cell_type": "code",
   "execution_count": null,
   "metadata": {},
   "outputs": [],
   "source": [
    "# Graph"
   ]
  },
  {
   "cell_type": "code",
   "execution_count": null,
   "metadata": {},
   "outputs": [],
   "source": [
    "# Create twitter stream and put into database\n",
    "# Put on heroku"
   ]
  },
  {
   "cell_type": "markdown",
   "metadata": {
    "heading_collapsed": true
   },
   "source": [
    "## Create a wordcloud of most frequented words"
   ]
  },
  {
   "cell_type": "code",
   "execution_count": null,
   "metadata": {
    "hidden": true
   },
   "outputs": [],
   "source": [
    "# Convert tweets to one string\n",
    "# Remove unnecessory word - stopword, punctuation - lemming, pronoun?\n"
   ]
  },
  {
   "cell_type": "code",
   "execution_count": 8,
   "metadata": {
    "ExecuteTime": {
     "end_time": "2019-07-25T10:39:22.990471Z",
     "start_time": "2019-07-25T10:39:22.945471Z"
    },
    "hidden": true
   },
   "outputs": [],
   "source": [
    "# Import wordcloud\n",
    "from wordcloud import WordCloud, STOPWORDS"
   ]
  },
  {
   "cell_type": "code",
   "execution_count": 18,
   "metadata": {
    "ExecuteTime": {
     "end_time": "2019-07-25T10:54:18.300131Z",
     "start_time": "2019-07-25T10:54:18.096646Z"
    },
    "hidden": true
   },
   "outputs": [
    {
     "data": {
      "image/png": "[encoded data removed]",
      "text/plain": [
       "<Figure size 432x288 with 1 Axes>"
      ]
     },
     "metadata": {
      "needs_background": "light"
     },
     "output_type": "display_data"
    }
   ],
   "source": [
    "# Step 1: Quick template\n",
    "\n",
    "# Create and generate a word cloud image:\n",
    "wordcloud = WordCloud().generate(data['Tweets'][1])\n",
    "\n",
    "# Display the generated image:\n",
    "plt.imshow(wordcloud, interpolation='bilinear')\n",
    "plt.axis(\"off\")\n",
    "plt.show()"
   ]
  },
  {
   "cell_type": "code",
   "execution_count": 20,
   "metadata": {
    "ExecuteTime": {
     "end_time": "2019-07-25T10:56:16.744673Z",
     "start_time": "2019-07-25T10:56:14.432826Z"
    },
    "hidden": true
   },
   "outputs": [
    {
     "name": "stderr",
     "output_type": "stream",
     "text": [
      "C:\\Users\\BRIAN\\Anaconda3\\lib\\site-packages\\ipykernel_launcher.py:5: DeprecationWarning: `imread` is deprecated!\n",
      "`imread` is deprecated in SciPy 1.0.0, and will be removed in 1.2.0.\n",
      "Use ``imageio.imread`` instead.\n",
      "  \"\"\"\n"
     ]
    },
    {
     "data": {
      "image/png": "[encoded data removed]",
      "text/plain": [
       "<Figure size 432x288 with 1 Axes>"
      ]
     },
     "metadata": {
      "needs_background": "light"
     },
     "output_type": "display_data"
    }
   ],
   "source": [
    "# Step 2: Enhance!\n",
    "\n",
    "# Import the mask so wordcloud will have a twitter bird shape:\n",
    "from scipy.misc import imread\n",
    "twitter_mask = imread('twitter_mask.png', flatten=True)\n",
    "\n",
    "# Join the whole tweets columns into one single string:\n",
    "words = ' '.join(data['Tweets'])\n",
    "\n",
    "# Create and generate a word cloud image:\n",
    "wordcloud = WordCloud(stopwords=STOPWORDS, # remove stopwords\n",
    "                      background_color='white',\n",
    "                      width=1800,\n",
    "                      height=1400,\n",
    "                      mask=twitter_mask # use twitter image as mask\n",
    "                     ).generate(words)\n",
    "\n",
    "# Display the generated image:\n",
    "plt.imshow(wordcloud, interpolation='bilinear')\n",
    "plt.axis(\"off\")\n",
    "plt.show()"
   ]
  }
 ],
 "metadata": {
  "colab": {
   "name": "Untitled29.ipynb",
   "provenance": [],
   "version": "0.3.2"
  },
  "kernelspec": {
   "display_name": "Python 3",
   "language": "python",
   "name": "python3"
  },
  "language_info": {
   "codemirror_mode": {
    "name": "ipython",
    "version": 3
   },
   "file_extension": ".py",
   "mimetype": "text/x-python",
   "name": "python",
   "nbconvert_exporter": "python",
   "pygments_lexer": "ipython3",
   "version": "3.7.3"
  },
  "toc": {
   "base_numbering": 1,
   "nav_menu": {},
   "number_sections": true,
   "sideBar": true,
   "skip_h1_title": false,
   "title_cell": "Table of Contents",
   "title_sidebar": "Contents",
   "toc_cell": false,
   "toc_position": {
    "height": "100px",
    "left": "1050.2px",
    "top": "110px",
    "width": "188.797px"
   },
   "toc_section_display": true,
   "toc_window_display": true
  }
 },
 "nbformat": 4,
 "nbformat_minor": 1
}
