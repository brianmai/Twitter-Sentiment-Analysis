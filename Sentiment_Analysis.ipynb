{
 "cells": [
  {
   "cell_type": "markdown",
   "metadata": {},
   "source": [
    "# Import packages"
   ]
  },
  {
   "cell_type": "code",
   "execution_count": 1,
   "metadata": {
    "ExecuteTime": {
     "end_time": "2019-07-29T04:40:57.570079Z",
     "start_time": "2019-07-29T04:40:55.421937Z"
    },
    "colab": {
     "base_uri": "https://localhost:8080/",
     "height": 387
    },
    "colab_type": "code",
    "id": "nMx2UqrJFyw-",
    "outputId": "2a1da4e3-31d4-401f-f6b0-9f693ad8d9a6"
   },
   "outputs": [],
   "source": [
    "import pandas as pd\n",
    "import tweepy\n",
    "from nltk.sentiment.vader import SentimentIntensityAnalyzer\n",
    "\n",
    "import matplotlib.pyplot as plt"
   ]
  },
  {
   "cell_type": "code",
   "execution_count": 2,
   "metadata": {
    "ExecuteTime": {
     "end_time": "2019-07-29T04:40:57.575061Z",
     "start_time": "2019-07-29T04:40:57.571071Z"
    }
   },
   "outputs": [],
   "source": [
    "# Display all output in a cell\n",
    "from IPython.core.interactiveshell import InteractiveShell\n",
    "InteractiveShell.ast_node_interactivity = \"all\""
   ]
  },
  {
   "cell_type": "markdown",
   "metadata": {},
   "source": [
    "# Get data from Twitter API & Assess polarity score"
   ]
  },
  {
   "cell_type": "code",
   "execution_count": 3,
   "metadata": {
    "ExecuteTime": {
     "end_time": "2019-07-29T04:40:57.666553Z",
     "start_time": "2019-07-29T04:40:57.663562Z"
    },
    "colab": {},
    "colab_type": "code",
    "id": "xoeDu5guGo-N"
   },
   "outputs": [],
   "source": [
    "#Setup Twitter API Authentication Variables to get tweets\n",
    "consumer_key = 'RxH0MdZ9KelMW8aCdSJX7VLWp'\n",
    "consumer_secret = 'ReGejlpQWMgM0lSMycvkNTeSqNqShTVYvfoovB2lhHahumDEbd'\n",
    "access_token = '1127315289303945217-wJuzP9pLaghnX8pGQTiDeUodDeVQXO'\n",
    "access_token_secret = 'UZMXTNjU5eJUfQC9ytx8ZvoPrtFfsSyjdVc5b8YJrJ4eT'"
   ]
  },
  {
   "cell_type": "code",
   "execution_count": 4,
   "metadata": {
    "ExecuteTime": {
     "end_time": "2019-07-29T04:40:59.121798Z",
     "start_time": "2019-07-29T04:40:59.118806Z"
    }
   },
   "outputs": [],
   "source": [
    "auth = tweepy.OAuthHandler(consumer_key, consumer_secret)\n",
    "auth.set_access_token(access_token, access_token_secret)\n",
    "\n",
    "api = tweepy.API(auth)"
   ]
  },
  {
   "cell_type": "code",
   "execution_count": 5,
   "metadata": {
    "ExecuteTime": {
     "end_time": "2019-07-29T04:41:02.355300Z",
     "start_time": "2019-07-29T04:41:01.695680Z"
    },
    "colab": {
     "base_uri": "https://localhost:8080/",
     "height": 376
    },
    "colab_type": "code",
    "id": "i41rn4KkG-iz",
    "outputId": "0243083f-626d-4df7-e974-f51e1e9d7790",
    "scrolled": true
   },
   "outputs": [
    {
     "data": {
      "text/html": [
       "<div>\n",
       "<style scoped>\n",
       "    .dataframe tbody tr th:only-of-type {\n",
       "        vertical-align: middle;\n",
       "    }\n",
       "\n",
       "    .dataframe tbody tr th {\n",
       "        vertical-align: top;\n",
       "    }\n",
       "\n",
       "    .dataframe thead th {\n",
       "        text-align: right;\n",
       "    }\n",
       "</style>\n",
       "<table border=\"1\" class=\"dataframe\">\n",
       "  <thead>\n",
       "    <tr style=\"text-align: right;\">\n",
       "      <th></th>\n",
       "      <th>Tweets</th>\n",
       "    </tr>\n",
       "  </thead>\n",
       "  <tbody>\n",
       "    <tr>\n",
       "      <th>0</th>\n",
       "      <td>RT @anorangeduck: Results from our new paper o...</td>\n",
       "    </tr>\n",
       "    <tr>\n",
       "      <th>1</th>\n",
       "      <td>Newsroom | HIV :  Researchers at Wits will als...</td>\n",
       "    </tr>\n",
       "    <tr>\n",
       "      <th>2</th>\n",
       "      <td>Forbes: Google Just Made #MachineLearning More...</td>\n",
       "    </tr>\n",
       "    <tr>\n",
       "      <th>3</th>\n",
       "      <td>Harnessing big data and machine learning to fo...</td>\n",
       "    </tr>\n",
       "    <tr>\n",
       "      <th>4</th>\n",
       "      <td>Grading some machine learning homework. Assign...</td>\n",
       "    </tr>\n",
       "    <tr>\n",
       "      <th>5</th>\n",
       "      <td>RT @sinzlab: We are looking for a motivated an...</td>\n",
       "    </tr>\n",
       "    <tr>\n",
       "      <th>6</th>\n",
       "      <td>RT @Overlooked_Inc: U.S.-China tensions weigh ...</td>\n",
       "    </tr>\n",
       "    <tr>\n",
       "      <th>7</th>\n",
       "      <td>RT @Overlooked_Inc: U.S. stocks bounce back; d...</td>\n",
       "    </tr>\n",
       "    <tr>\n",
       "      <th>8</th>\n",
       "      <td>RT @Overlooked_Inc: Sixteen U.S. Marines arres...</td>\n",
       "    </tr>\n",
       "    <tr>\n",
       "      <th>9</th>\n",
       "      <td>RT @Overlooked_Inc: British Airways to resume ...</td>\n",
       "    </tr>\n",
       "  </tbody>\n",
       "</table>\n",
       "</div>"
      ],
      "text/plain": [
       "                                              Tweets\n",
       "0  RT @anorangeduck: Results from our new paper o...\n",
       "1  Newsroom | HIV :  Researchers at Wits will als...\n",
       "2  Forbes: Google Just Made #MachineLearning More...\n",
       "3  Harnessing big data and machine learning to fo...\n",
       "4  Grading some machine learning homework. Assign...\n",
       "5  RT @sinzlab: We are looking for a motivated an...\n",
       "6  RT @Overlooked_Inc: U.S.-China tensions weigh ...\n",
       "7  RT @Overlooked_Inc: U.S. stocks bounce back; d...\n",
       "8  RT @Overlooked_Inc: Sixteen U.S. Marines arres...\n",
       "9  RT @Overlooked_Inc: British Airways to resume ..."
      ]
     },
     "metadata": {},
     "output_type": "display_data"
    }
   ],
   "source": [
    "# Step 1: Sample tweets using api.seach\n",
    "tweets = api.search('Machine Learning', lang='en', count=200) # maximum tweets using api.search are 100 only\n",
    "\n",
    "data = pd.DataFrame(data=[tweet.text for tweet in tweets], columns=['Tweets'])\n",
    "\n",
    "display(data.head(10))"
   ]
  },
  {
   "cell_type": "code",
   "execution_count": 6,
   "metadata": {
    "ExecuteTime": {
     "end_time": "2019-07-29T04:41:06.916006Z",
     "start_time": "2019-07-29T04:41:06.910988Z"
    },
    "cell_style": "center"
   },
   "outputs": [],
   "source": [
    "# Step 2: Create Twitter stream to get more than 100 tweets\n",
    "df = pd.DataFrame(columns = ['Tweets', 'User', 'User_statuses_count', \n",
    "                             'user_followers', 'User_location', 'User_verified',\n",
    "                             'fav_count', 'rt_count', 'tweet_date'])\n",
    "\n",
    "def stream(data, file_name):\n",
    "    i = 0\n",
    "    for tweet in tweepy.Cursor(api.search, q=data, count=100, lang='en').items():\n",
    "        print(i, end='\\r')\n",
    "        df.loc[i, 'Tweets'] = tweet.text\n",
    "        df.loc[i, 'User'] = tweet.user.name\n",
    "        df.loc[i, 'User_statuses_count'] = tweet.user.statuses_count\n",
    "        df.loc[i, 'user_followers'] = tweet.user.followers_count\n",
    "        df.loc[i, 'User_location'] = tweet.user.location\n",
    "        df.loc[i, 'User_verified'] = tweet.user.verified\n",
    "        df.loc[i, 'fav_count'] = tweet.favorite_count\n",
    "        df.loc[i, 'rt_count'] = tweet.retweet_count\n",
    "        df.loc[i, 'tweet_date'] = tweet.created_at\n",
    "        df.to_excel('{}.xlsx'.format(file_name))\n",
    "        i+=1\n",
    "        if i == 1000:\n",
    "            break\n",
    "        else:\n",
    "            pass\n",
    "\n",
    "stream(data = ['Machine Learning'], file_name = 'my_tweets')\n",
    "df.info()"
   ]
  },
  {
   "cell_type": "code",
   "execution_count": 11,
   "metadata": {
    "ExecuteTime": {
     "end_time": "2019-07-29T04:44:44.742197Z",
     "start_time": "2019-07-29T04:44:44.735183Z"
    }
   },
   "outputs": [
    {
     "data": {
      "text/html": [
       "<div>\n",
       "<style scoped>\n",
       "    .dataframe tbody tr th:only-of-type {\n",
       "        vertical-align: middle;\n",
       "    }\n",
       "\n",
       "    .dataframe tbody tr th {\n",
       "        vertical-align: top;\n",
       "    }\n",
       "\n",
       "    .dataframe thead th {\n",
       "        text-align: right;\n",
       "    }\n",
       "</style>\n",
       "<table border=\"1\" class=\"dataframe\">\n",
       "  <thead>\n",
       "    <tr style=\"text-align: right;\">\n",
       "      <th></th>\n",
       "      <th>Tweets</th>\n",
       "    </tr>\n",
       "  </thead>\n",
       "  <tbody>\n",
       "    <tr>\n",
       "      <th>0</th>\n",
       "      <td>RT @anorangeduck: Results from our new paper o...</td>\n",
       "    </tr>\n",
       "    <tr>\n",
       "      <th>1</th>\n",
       "      <td>RT @anorangeduck: Results from our new paper o...</td>\n",
       "    </tr>\n",
       "    <tr>\n",
       "      <th>2</th>\n",
       "      <td>Newsroom | HIV :  Researchers at Wits will als...</td>\n",
       "    </tr>\n",
       "    <tr>\n",
       "      <th>3</th>\n",
       "      <td>Forbes: Google Just Made #MachineLearning More...</td>\n",
       "    </tr>\n",
       "    <tr>\n",
       "      <th>4</th>\n",
       "      <td>Harnessing big data and machine learning to fo...</td>\n",
       "    </tr>\n",
       "  </tbody>\n",
       "</table>\n",
       "</div>"
      ],
      "text/plain": [
       "                                              Tweets\n",
       "0  RT @anorangeduck: Results from our new paper o...\n",
       "1  RT @anorangeduck: Results from our new paper o...\n",
       "2  Newsroom | HIV :  Researchers at Wits will als...\n",
       "3  Forbes: Google Just Made #MachineLearning More...\n",
       "4  Harnessing big data and machine learning to fo..."
      ]
     },
     "execution_count": 11,
     "metadata": {},
     "output_type": "execute_result"
    }
   ],
   "source": [
    "data = pd.DataFrame(df['Tweets'])\n",
    "data.head()"
   ]
  },
  {
   "cell_type": "code",
   "execution_count": 12,
   "metadata": {
    "ExecuteTime": {
     "end_time": "2019-07-29T04:44:52.619857Z",
     "start_time": "2019-07-29T04:44:52.479032Z"
    },
    "colab": {
     "base_uri": "https://localhost:8080/",
     "height": 69
    },
    "colab_type": "code",
    "id": "6k_z5lpRIN4t",
    "outputId": "e5f77812-a407-4ed0-8198-240dd01b2bec",
    "scrolled": true
   },
   "outputs": [
    {
     "name": "stderr",
     "output_type": "stream",
     "text": [
      "[nltk_data] Downloading package vader_lexicon to\n",
      "[nltk_data]     C:\\Users\\BRIAN\\AppData\\Roaming\\nltk_data...\n",
      "[nltk_data]   Package vader_lexicon is already up-to-date!\n"
     ]
    },
    {
     "data": {
      "text/plain": [
       "True"
      ]
     },
     "execution_count": 12,
     "metadata": {},
     "output_type": "execute_result"
    }
   ],
   "source": [
    "import nltk\n",
    "nltk.download('vader_lexicon')"
   ]
  },
  {
   "cell_type": "code",
   "execution_count": 13,
   "metadata": {
    "ExecuteTime": {
     "end_time": "2019-07-29T04:44:56.593539Z",
     "start_time": "2019-07-29T04:44:56.304132Z"
    },
    "colab": {
     "base_uri": "https://localhost:8080/",
     "height": 1969
    },
    "colab_type": "code",
    "id": "kQiYGQEqIZ3w",
    "outputId": "35c11ad4-4e98-4d25-c32a-0b627a3e5d90",
    "scrolled": true
   },
   "outputs": [
    {
     "data": {
      "text/html": [
       "<div>\n",
       "<style scoped>\n",
       "    .dataframe tbody tr th:only-of-type {\n",
       "        vertical-align: middle;\n",
       "    }\n",
       "\n",
       "    .dataframe tbody tr th {\n",
       "        vertical-align: top;\n",
       "    }\n",
       "\n",
       "    .dataframe thead th {\n",
       "        text-align: right;\n",
       "    }\n",
       "</style>\n",
       "<table border=\"1\" class=\"dataframe\">\n",
       "  <thead>\n",
       "    <tr style=\"text-align: right;\">\n",
       "      <th></th>\n",
       "      <th>Tweets</th>\n",
       "      <th>polarity</th>\n",
       "    </tr>\n",
       "  </thead>\n",
       "  <tbody>\n",
       "    <tr>\n",
       "      <th>0</th>\n",
       "      <td>RT @anorangeduck: Results from our new paper o...</td>\n",
       "      <td>{'neg': 0.0, 'neu': 1.0, 'pos': 0.0, 'compound...</td>\n",
       "    </tr>\n",
       "    <tr>\n",
       "      <th>1</th>\n",
       "      <td>RT @anorangeduck: Results from our new paper o...</td>\n",
       "      <td>{'neg': 0.0, 'neu': 1.0, 'pos': 0.0, 'compound...</td>\n",
       "    </tr>\n",
       "    <tr>\n",
       "      <th>2</th>\n",
       "      <td>Newsroom | HIV :  Researchers at Wits will als...</td>\n",
       "      <td>{'neg': 0.0, 'neu': 1.0, 'pos': 0.0, 'compound...</td>\n",
       "    </tr>\n",
       "    <tr>\n",
       "      <th>3</th>\n",
       "      <td>Forbes: Google Just Made #MachineLearning More...</td>\n",
       "      <td>{'neg': 0.0, 'neu': 1.0, 'pos': 0.0, 'compound...</td>\n",
       "    </tr>\n",
       "    <tr>\n",
       "      <th>4</th>\n",
       "      <td>Harnessing big data and machine learning to fo...</td>\n",
       "      <td>{'neg': 0.0, 'neu': 1.0, 'pos': 0.0, 'compound...</td>\n",
       "    </tr>\n",
       "    <tr>\n",
       "      <th>5</th>\n",
       "      <td>Grading some machine learning homework. Assign...</td>\n",
       "      <td>{'neg': 0.0, 'neu': 0.878, 'pos': 0.122, 'comp...</td>\n",
       "    </tr>\n",
       "    <tr>\n",
       "      <th>6</th>\n",
       "      <td>RT @sinzlab: We are looking for a motivated an...</td>\n",
       "      <td>{'neg': 0.0, 'neu': 0.805, 'pos': 0.195, 'comp...</td>\n",
       "    </tr>\n",
       "    <tr>\n",
       "      <th>7</th>\n",
       "      <td>RT @Overlooked_Inc: U.S.-China tensions weigh ...</td>\n",
       "      <td>{'neg': 0.137, 'neu': 0.863, 'pos': 0.0, 'comp...</td>\n",
       "    </tr>\n",
       "    <tr>\n",
       "      <th>8</th>\n",
       "      <td>RT @Overlooked_Inc: U.S. stocks bounce back; d...</td>\n",
       "      <td>{'neg': 0.0, 'neu': 1.0, 'pos': 0.0, 'compound...</td>\n",
       "    </tr>\n",
       "    <tr>\n",
       "      <th>9</th>\n",
       "      <td>RT @Overlooked_Inc: Sixteen U.S. Marines arres...</td>\n",
       "      <td>{'neg': 0.263, 'neu': 0.737, 'pos': 0.0, 'comp...</td>\n",
       "    </tr>\n",
       "    <tr>\n",
       "      <th>10</th>\n",
       "      <td>RT @Overlooked_Inc: British Airways to resume ...</td>\n",
       "      <td>{'neg': 0.0, 'neu': 1.0, 'pos': 0.0, 'compound...</td>\n",
       "    </tr>\n",
       "    <tr>\n",
       "      <th>11</th>\n",
       "      <td>RT @Microsoft: At our annual #Hackathon, @TMob...</td>\n",
       "      <td>{'neg': 0.0, 'neu': 1.0, 'pos': 0.0, 'compound...</td>\n",
       "    </tr>\n",
       "    <tr>\n",
       "      <th>12</th>\n",
       "      <td>Machine learning can simplify your travel plan...</td>\n",
       "      <td>{'neg': 0.0, 'neu': 1.0, 'pos': 0.0, 'compound...</td>\n",
       "    </tr>\n",
       "    <tr>\n",
       "      <th>13</th>\n",
       "      <td>RT @techreview: Researchers have developed a m...</td>\n",
       "      <td>{'neg': 0.145, 'neu': 0.692, 'pos': 0.164, 'co...</td>\n",
       "    </tr>\n",
       "    <tr>\n",
       "      <th>14</th>\n",
       "      <td>RT @RoyKishony: A machine-learning algorithm m...</td>\n",
       "      <td>{'neg': 0.0, 'neu': 0.851, 'pos': 0.149, 'comp...</td>\n",
       "    </tr>\n",
       "    <tr>\n",
       "      <th>15</th>\n",
       "      <td>RT @Timothy_Hughes: In Marketing, Is it Time t...</td>\n",
       "      <td>{'neg': 0.0, 'neu': 0.866, 'pos': 0.134, 'comp...</td>\n",
       "    </tr>\n",
       "    <tr>\n",
       "      <th>16</th>\n",
       "      <td>At a recent panel on using marketing data to g...</td>\n",
       "      <td>{'neg': 0.0, 'neu': 1.0, 'pos': 0.0, 'compound...</td>\n",
       "    </tr>\n",
       "    <tr>\n",
       "      <th>17</th>\n",
       "      <td>RT @into_AI: 5th International Conference on A...</td>\n",
       "      <td>{'neg': 0.0, 'neu': 0.718, 'pos': 0.282, 'comp...</td>\n",
       "    </tr>\n",
       "    <tr>\n",
       "      <th>18</th>\n",
       "      <td>RT @into_AI: Artificial intelligence is quietl...</td>\n",
       "      <td>{'neg': 0.0, 'neu': 0.819, 'pos': 0.181, 'comp...</td>\n",
       "    </tr>\n",
       "    <tr>\n",
       "      <th>19</th>\n",
       "      <td>RT @into_AI: AI Aids Smart Devices to Detect C...</td>\n",
       "      <td>{'neg': 0.133, 'neu': 0.718, 'pos': 0.149, 'co...</td>\n",
       "    </tr>\n",
       "    <tr>\n",
       "      <th>20</th>\n",
       "      <td>RT @lopezdeprado: Machine learning (ML) is oft...</td>\n",
       "      <td>{'neg': 0.194, 'neu': 0.806, 'pos': 0.0, 'comp...</td>\n",
       "    </tr>\n",
       "    <tr>\n",
       "      <th>21</th>\n",
       "      <td>RT @chipro: Can we say once and for all that y...</td>\n",
       "      <td>{'neg': 0.0, 'neu': 0.903, 'pos': 0.097, 'comp...</td>\n",
       "    </tr>\n",
       "    <tr>\n",
       "      <th>22</th>\n",
       "      <td>RT @adafruit: MACHINE LEARNING MONDAY! Designi...</td>\n",
       "      <td>{'neg': 0.0, 'neu': 1.0, 'pos': 0.0, 'compound...</td>\n",
       "    </tr>\n",
       "    <tr>\n",
       "      <th>23</th>\n",
       "      <td>\"Not all ML is created equal.\" https://t.co/9r...</td>\n",
       "      <td>{'neg': 0.0, 'neu': 0.75, 'pos': 0.25, 'compou...</td>\n",
       "    </tr>\n",
       "    <tr>\n",
       "      <th>24</th>\n",
       "      <td>RT @ChelseaParlett: ┏┓  \\n┃┃╱╲ in this\\n┃╱╱╲╲ ...</td>\n",
       "      <td>{'neg': 0.0, 'neu': 1.0, 'pos': 0.0, 'compound...</td>\n",
       "    </tr>\n",
       "    <tr>\n",
       "      <th>25</th>\n",
       "      <td>RT @bazar2geek: Adafruit Blog : \"MACHINE LEARN...</td>\n",
       "      <td>{'neg': 0.0, 'neu': 1.0, 'pos': 0.0, 'compound...</td>\n",
       "    </tr>\n",
       "    <tr>\n",
       "      <th>26</th>\n",
       "      <td>RT @hardmaru: Machine Learning for Creativity ...</td>\n",
       "      <td>{'neg': 0.0, 'neu': 0.855, 'pos': 0.145, 'comp...</td>\n",
       "    </tr>\n",
       "    <tr>\n",
       "      <th>27</th>\n",
       "      <td>Adafruit Blog : \"MACHINE LEARNING MONDAY! Desi...</td>\n",
       "      <td>{'neg': 0.0, 'neu': 1.0, 'pos': 0.0, 'compound...</td>\n",
       "    </tr>\n",
       "    <tr>\n",
       "      <th>28</th>\n",
       "      <td>Machine Learning Algorithms are Getting Good a...</td>\n",
       "      <td>{'neg': 0.159, 'neu': 0.688, 'pos': 0.153, 'co...</td>\n",
       "    </tr>\n",
       "    <tr>\n",
       "      <th>29</th>\n",
       "      <td>RT @datascigeek: Unsupervised Machine Learning...</td>\n",
       "      <td>{'neg': 0.0, 'neu': 1.0, 'pos': 0.0, 'compound...</td>\n",
       "    </tr>\n",
       "    <tr>\n",
       "      <th>...</th>\n",
       "      <td>...</td>\n",
       "      <td>...</td>\n",
       "    </tr>\n",
       "    <tr>\n",
       "      <th>70</th>\n",
       "      <td>RT @AISOMA_AG: #MachineLearning can help compa...</td>\n",
       "      <td>{'neg': 0.0, 'neu': 0.838, 'pos': 0.162, 'comp...</td>\n",
       "    </tr>\n",
       "    <tr>\n",
       "      <th>71</th>\n",
       "      <td>RT @Overlooked_Inc: British Airways to resume ...</td>\n",
       "      <td>{'neg': 0.0, 'neu': 1.0, 'pos': 0.0, 'compound...</td>\n",
       "    </tr>\n",
       "    <tr>\n",
       "      <th>72</th>\n",
       "      <td>RT @anorangeduck: Results from our new paper o...</td>\n",
       "      <td>{'neg': 0.0, 'neu': 1.0, 'pos': 0.0, 'compound...</td>\n",
       "    </tr>\n",
       "    <tr>\n",
       "      <th>73</th>\n",
       "      <td>RT @ChelseaParlett: ┏┓  \\n┃┃╱╲ in this\\n┃╱╱╲╲ ...</td>\n",
       "      <td>{'neg': 0.0, 'neu': 1.0, 'pos': 0.0, 'compound...</td>\n",
       "    </tr>\n",
       "    <tr>\n",
       "      <th>74</th>\n",
       "      <td>RT @CyberPoint_Intl: Take a look at Learning i...</td>\n",
       "      <td>{'neg': 0.0, 'neu': 1.0, 'pos': 0.0, 'compound...</td>\n",
       "    </tr>\n",
       "    <tr>\n",
       "      <th>75</th>\n",
       "      <td>The Inception of Machine learning  https://t.c...</td>\n",
       "      <td>{'neg': 0.0, 'neu': 1.0, 'pos': 0.0, 'compound...</td>\n",
       "    </tr>\n",
       "    <tr>\n",
       "      <th>76</th>\n",
       "      <td>RT @computerfact: concerned parent: if all you...</td>\n",
       "      <td>{'neg': 0.0, 'neu': 0.746, 'pos': 0.254, 'comp...</td>\n",
       "    </tr>\n",
       "    <tr>\n",
       "      <th>77</th>\n",
       "      <td>@miles_hackett Are you sure??? Or is the RNG t...</td>\n",
       "      <td>{'neg': 0.0, 'neu': 0.798, 'pos': 0.202, 'comp...</td>\n",
       "    </tr>\n",
       "    <tr>\n",
       "      <th>78</th>\n",
       "      <td>RT @computerfact: concerned parent: if all you...</td>\n",
       "      <td>{'neg': 0.0, 'neu': 0.746, 'pos': 0.254, 'comp...</td>\n",
       "    </tr>\n",
       "    <tr>\n",
       "      <th>79</th>\n",
       "      <td>@CSTILLingWELL @CUAHSI @aliceinH2Oland I wiil ...</td>\n",
       "      <td>{'neg': 0.0, 'neu': 1.0, 'pos': 0.0, 'compound...</td>\n",
       "    </tr>\n",
       "    <tr>\n",
       "      <th>80</th>\n",
       "      <td>RT @SwiftOnSecurity: God's will is unknowable ...</td>\n",
       "      <td>{'neg': 0.0, 'neu': 1.0, 'pos': 0.0, 'compound...</td>\n",
       "    </tr>\n",
       "    <tr>\n",
       "      <th>81</th>\n",
       "      <td>RT @hugolvc2003: #MachineLearning Helps Discov...</td>\n",
       "      <td>{'neg': 0.0, 'neu': 0.843, 'pos': 0.157, 'comp...</td>\n",
       "    </tr>\n",
       "    <tr>\n",
       "      <th>82</th>\n",
       "      <td>RT @gp_pulipaka: A Simple Machine Learning Pro...</td>\n",
       "      <td>{'neg': 0.0, 'neu': 1.0, 'pos': 0.0, 'compound...</td>\n",
       "    </tr>\n",
       "    <tr>\n",
       "      <th>83</th>\n",
       "      <td>C# or Java? TypeScript or JavaScript? Machine ...</td>\n",
       "      <td>{'neg': 0.0, 'neu': 1.0, 'pos': 0.0, 'compound...</td>\n",
       "    </tr>\n",
       "    <tr>\n",
       "      <th>84</th>\n",
       "      <td>RT @MagureSoftwares: Here it is, Another aweso...</td>\n",
       "      <td>{'neg': 0.0, 'neu': 0.769, 'pos': 0.231, 'comp...</td>\n",
       "    </tr>\n",
       "    <tr>\n",
       "      <th>85</th>\n",
       "      <td>RT @WordWowStudio: Machine Learning Confronts ...</td>\n",
       "      <td>{'neg': 0.147, 'neu': 0.853, 'pos': 0.0, 'comp...</td>\n",
       "    </tr>\n",
       "    <tr>\n",
       "      <th>86</th>\n",
       "      <td>RT @ChelseaParlett: ┏┓  \\n┃┃╱╲ in this\\n┃╱╱╲╲ ...</td>\n",
       "      <td>{'neg': 0.0, 'neu': 1.0, 'pos': 0.0, 'compound...</td>\n",
       "    </tr>\n",
       "    <tr>\n",
       "      <th>87</th>\n",
       "      <td>RT @jamilahmed_16: #FreeTrial | Best Coursera ...</td>\n",
       "      <td>{'neg': 0.0, 'neu': 0.756, 'pos': 0.244, 'comp...</td>\n",
       "    </tr>\n",
       "    <tr>\n",
       "      <th>88</th>\n",
       "      <td>#TechnoCool: Explore AI and deep learning with...</td>\n",
       "      <td>{'neg': 0.0, 'neu': 0.851, 'pos': 0.149, 'comp...</td>\n",
       "    </tr>\n",
       "    <tr>\n",
       "      <th>89</th>\n",
       "      <td>RT @anorangeduck: Results from our new paper o...</td>\n",
       "      <td>{'neg': 0.0, 'neu': 1.0, 'pos': 0.0, 'compound...</td>\n",
       "    </tr>\n",
       "    <tr>\n",
       "      <th>90</th>\n",
       "      <td>@adversariel @defcon Too far to cross an ocean...</td>\n",
       "      <td>{'neg': 0.0, 'neu': 1.0, 'pos': 0.0, 'compound...</td>\n",
       "    </tr>\n",
       "    <tr>\n",
       "      <th>91</th>\n",
       "      <td>RT @jamilahmed_16: #FreeTrial | Best Coursera ...</td>\n",
       "      <td>{'neg': 0.0, 'neu': 0.756, 'pos': 0.244, 'comp...</td>\n",
       "    </tr>\n",
       "    <tr>\n",
       "      <th>92</th>\n",
       "      <td>RT @MagureSoftwares: Here it is, Another aweso...</td>\n",
       "      <td>{'neg': 0.0, 'neu': 0.769, 'pos': 0.231, 'comp...</td>\n",
       "    </tr>\n",
       "    <tr>\n",
       "      <th>93</th>\n",
       "      <td>Artificial Intelligence, Machine Learning, and...</td>\n",
       "      <td>{'neg': 0.0, 'neu': 0.795, 'pos': 0.205, 'comp...</td>\n",
       "    </tr>\n",
       "    <tr>\n",
       "      <th>94</th>\n",
       "      <td>HIV | #Stigmabase — Researchers at Wits will a...</td>\n",
       "      <td>{'neg': 0.0, 'neu': 1.0, 'pos': 0.0, 'compound...</td>\n",
       "    </tr>\n",
       "    <tr>\n",
       "      <th>95</th>\n",
       "      <td>RT @SpirosMargaris: Why #MachineLearning is Go...</td>\n",
       "      <td>{'neg': 0.0, 'neu': 1.0, 'pos': 0.0, 'compound...</td>\n",
       "    </tr>\n",
       "    <tr>\n",
       "      <th>96</th>\n",
       "      <td>RT @MautAaRahiHai2: Honestly speaking y'all ar...</td>\n",
       "      <td>{'neg': 0.0, 'neu': 0.659, 'pos': 0.341, 'comp...</td>\n",
       "    </tr>\n",
       "    <tr>\n",
       "      <th>97</th>\n",
       "      <td>RT @OACJournal: Editorial: Machine-learning fo...</td>\n",
       "      <td>{'neg': 0.0, 'neu': 1.0, 'pos': 0.0, 'compound...</td>\n",
       "    </tr>\n",
       "    <tr>\n",
       "      <th>98</th>\n",
       "      <td>RT @Deep__AI: Definition of Neurons https://t....</td>\n",
       "      <td>{'neg': 0.0, 'neu': 1.0, 'pos': 0.0, 'compound...</td>\n",
       "    </tr>\n",
       "    <tr>\n",
       "      <th>99</th>\n",
       "      <td>@AtomicAdMan All in the name of innovation we ...</td>\n",
       "      <td>{'neg': 0.185, 'neu': 0.717, 'pos': 0.098, 'co...</td>\n",
       "    </tr>\n",
       "  </tbody>\n",
       "</table>\n",
       "<p>100 rows × 2 columns</p>\n",
       "</div>"
      ],
      "text/plain": [
       "                                               Tweets  \\\n",
       "0   RT @anorangeduck: Results from our new paper o...   \n",
       "1   RT @anorangeduck: Results from our new paper o...   \n",
       "2   Newsroom | HIV :  Researchers at Wits will als...   \n",
       "3   Forbes: Google Just Made #MachineLearning More...   \n",
       "4   Harnessing big data and machine learning to fo...   \n",
       "5   Grading some machine learning homework. Assign...   \n",
       "6   RT @sinzlab: We are looking for a motivated an...   \n",
       "7   RT @Overlooked_Inc: U.S.-China tensions weigh ...   \n",
       "8   RT @Overlooked_Inc: U.S. stocks bounce back; d...   \n",
       "9   RT @Overlooked_Inc: Sixteen U.S. Marines arres...   \n",
       "10  RT @Overlooked_Inc: British Airways to resume ...   \n",
       "11  RT @Microsoft: At our annual #Hackathon, @TMob...   \n",
       "12  Machine learning can simplify your travel plan...   \n",
       "13  RT @techreview: Researchers have developed a m...   \n",
       "14  RT @RoyKishony: A machine-learning algorithm m...   \n",
       "15  RT @Timothy_Hughes: In Marketing, Is it Time t...   \n",
       "16  At a recent panel on using marketing data to g...   \n",
       "17  RT @into_AI: 5th International Conference on A...   \n",
       "18  RT @into_AI: Artificial intelligence is quietl...   \n",
       "19  RT @into_AI: AI Aids Smart Devices to Detect C...   \n",
       "20  RT @lopezdeprado: Machine learning (ML) is oft...   \n",
       "21  RT @chipro: Can we say once and for all that y...   \n",
       "22  RT @adafruit: MACHINE LEARNING MONDAY! Designi...   \n",
       "23  \"Not all ML is created equal.\" https://t.co/9r...   \n",
       "24  RT @ChelseaParlett: ┏┓  \\n┃┃╱╲ in this\\n┃╱╱╲╲ ...   \n",
       "25  RT @bazar2geek: Adafruit Blog : \"MACHINE LEARN...   \n",
       "26  RT @hardmaru: Machine Learning for Creativity ...   \n",
       "27  Adafruit Blog : \"MACHINE LEARNING MONDAY! Desi...   \n",
       "28  Machine Learning Algorithms are Getting Good a...   \n",
       "29  RT @datascigeek: Unsupervised Machine Learning...   \n",
       "..                                                ...   \n",
       "70  RT @AISOMA_AG: #MachineLearning can help compa...   \n",
       "71  RT @Overlooked_Inc: British Airways to resume ...   \n",
       "72  RT @anorangeduck: Results from our new paper o...   \n",
       "73  RT @ChelseaParlett: ┏┓  \\n┃┃╱╲ in this\\n┃╱╱╲╲ ...   \n",
       "74  RT @CyberPoint_Intl: Take a look at Learning i...   \n",
       "75  The Inception of Machine learning  https://t.c...   \n",
       "76  RT @computerfact: concerned parent: if all you...   \n",
       "77  @miles_hackett Are you sure??? Or is the RNG t...   \n",
       "78  RT @computerfact: concerned parent: if all you...   \n",
       "79  @CSTILLingWELL @CUAHSI @aliceinH2Oland I wiil ...   \n",
       "80  RT @SwiftOnSecurity: God's will is unknowable ...   \n",
       "81  RT @hugolvc2003: #MachineLearning Helps Discov...   \n",
       "82  RT @gp_pulipaka: A Simple Machine Learning Pro...   \n",
       "83  C# or Java? TypeScript or JavaScript? Machine ...   \n",
       "84  RT @MagureSoftwares: Here it is, Another aweso...   \n",
       "85  RT @WordWowStudio: Machine Learning Confronts ...   \n",
       "86  RT @ChelseaParlett: ┏┓  \\n┃┃╱╲ in this\\n┃╱╱╲╲ ...   \n",
       "87  RT @jamilahmed_16: #FreeTrial | Best Coursera ...   \n",
       "88  #TechnoCool: Explore AI and deep learning with...   \n",
       "89  RT @anorangeduck: Results from our new paper o...   \n",
       "90  @adversariel @defcon Too far to cross an ocean...   \n",
       "91  RT @jamilahmed_16: #FreeTrial | Best Coursera ...   \n",
       "92  RT @MagureSoftwares: Here it is, Another aweso...   \n",
       "93  Artificial Intelligence, Machine Learning, and...   \n",
       "94  HIV | #Stigmabase — Researchers at Wits will a...   \n",
       "95  RT @SpirosMargaris: Why #MachineLearning is Go...   \n",
       "96  RT @MautAaRahiHai2: Honestly speaking y'all ar...   \n",
       "97  RT @OACJournal: Editorial: Machine-learning fo...   \n",
       "98  RT @Deep__AI: Definition of Neurons https://t....   \n",
       "99  @AtomicAdMan All in the name of innovation we ...   \n",
       "\n",
       "                                             polarity  \n",
       "0   {'neg': 0.0, 'neu': 1.0, 'pos': 0.0, 'compound...  \n",
       "1   {'neg': 0.0, 'neu': 1.0, 'pos': 0.0, 'compound...  \n",
       "2   {'neg': 0.0, 'neu': 1.0, 'pos': 0.0, 'compound...  \n",
       "3   {'neg': 0.0, 'neu': 1.0, 'pos': 0.0, 'compound...  \n",
       "4   {'neg': 0.0, 'neu': 1.0, 'pos': 0.0, 'compound...  \n",
       "5   {'neg': 0.0, 'neu': 0.878, 'pos': 0.122, 'comp...  \n",
       "6   {'neg': 0.0, 'neu': 0.805, 'pos': 0.195, 'comp...  \n",
       "7   {'neg': 0.137, 'neu': 0.863, 'pos': 0.0, 'comp...  \n",
       "8   {'neg': 0.0, 'neu': 1.0, 'pos': 0.0, 'compound...  \n",
       "9   {'neg': 0.263, 'neu': 0.737, 'pos': 0.0, 'comp...  \n",
       "10  {'neg': 0.0, 'neu': 1.0, 'pos': 0.0, 'compound...  \n",
       "11  {'neg': 0.0, 'neu': 1.0, 'pos': 0.0, 'compound...  \n",
       "12  {'neg': 0.0, 'neu': 1.0, 'pos': 0.0, 'compound...  \n",
       "13  {'neg': 0.145, 'neu': 0.692, 'pos': 0.164, 'co...  \n",
       "14  {'neg': 0.0, 'neu': 0.851, 'pos': 0.149, 'comp...  \n",
       "15  {'neg': 0.0, 'neu': 0.866, 'pos': 0.134, 'comp...  \n",
       "16  {'neg': 0.0, 'neu': 1.0, 'pos': 0.0, 'compound...  \n",
       "17  {'neg': 0.0, 'neu': 0.718, 'pos': 0.282, 'comp...  \n",
       "18  {'neg': 0.0, 'neu': 0.819, 'pos': 0.181, 'comp...  \n",
       "19  {'neg': 0.133, 'neu': 0.718, 'pos': 0.149, 'co...  \n",
       "20  {'neg': 0.194, 'neu': 0.806, 'pos': 0.0, 'comp...  \n",
       "21  {'neg': 0.0, 'neu': 0.903, 'pos': 0.097, 'comp...  \n",
       "22  {'neg': 0.0, 'neu': 1.0, 'pos': 0.0, 'compound...  \n",
       "23  {'neg': 0.0, 'neu': 0.75, 'pos': 0.25, 'compou...  \n",
       "24  {'neg': 0.0, 'neu': 1.0, 'pos': 0.0, 'compound...  \n",
       "25  {'neg': 0.0, 'neu': 1.0, 'pos': 0.0, 'compound...  \n",
       "26  {'neg': 0.0, 'neu': 0.855, 'pos': 0.145, 'comp...  \n",
       "27  {'neg': 0.0, 'neu': 1.0, 'pos': 0.0, 'compound...  \n",
       "28  {'neg': 0.159, 'neu': 0.688, 'pos': 0.153, 'co...  \n",
       "29  {'neg': 0.0, 'neu': 1.0, 'pos': 0.0, 'compound...  \n",
       "..                                                ...  \n",
       "70  {'neg': 0.0, 'neu': 0.838, 'pos': 0.162, 'comp...  \n",
       "71  {'neg': 0.0, 'neu': 1.0, 'pos': 0.0, 'compound...  \n",
       "72  {'neg': 0.0, 'neu': 1.0, 'pos': 0.0, 'compound...  \n",
       "73  {'neg': 0.0, 'neu': 1.0, 'pos': 0.0, 'compound...  \n",
       "74  {'neg': 0.0, 'neu': 1.0, 'pos': 0.0, 'compound...  \n",
       "75  {'neg': 0.0, 'neu': 1.0, 'pos': 0.0, 'compound...  \n",
       "76  {'neg': 0.0, 'neu': 0.746, 'pos': 0.254, 'comp...  \n",
       "77  {'neg': 0.0, 'neu': 0.798, 'pos': 0.202, 'comp...  \n",
       "78  {'neg': 0.0, 'neu': 0.746, 'pos': 0.254, 'comp...  \n",
       "79  {'neg': 0.0, 'neu': 1.0, 'pos': 0.0, 'compound...  \n",
       "80  {'neg': 0.0, 'neu': 1.0, 'pos': 0.0, 'compound...  \n",
       "81  {'neg': 0.0, 'neu': 0.843, 'pos': 0.157, 'comp...  \n",
       "82  {'neg': 0.0, 'neu': 1.0, 'pos': 0.0, 'compound...  \n",
       "83  {'neg': 0.0, 'neu': 1.0, 'pos': 0.0, 'compound...  \n",
       "84  {'neg': 0.0, 'neu': 0.769, 'pos': 0.231, 'comp...  \n",
       "85  {'neg': 0.147, 'neu': 0.853, 'pos': 0.0, 'comp...  \n",
       "86  {'neg': 0.0, 'neu': 1.0, 'pos': 0.0, 'compound...  \n",
       "87  {'neg': 0.0, 'neu': 0.756, 'pos': 0.244, 'comp...  \n",
       "88  {'neg': 0.0, 'neu': 0.851, 'pos': 0.149, 'comp...  \n",
       "89  {'neg': 0.0, 'neu': 1.0, 'pos': 0.0, 'compound...  \n",
       "90  {'neg': 0.0, 'neu': 1.0, 'pos': 0.0, 'compound...  \n",
       "91  {'neg': 0.0, 'neu': 0.756, 'pos': 0.244, 'comp...  \n",
       "92  {'neg': 0.0, 'neu': 0.769, 'pos': 0.231, 'comp...  \n",
       "93  {'neg': 0.0, 'neu': 0.795, 'pos': 0.205, 'comp...  \n",
       "94  {'neg': 0.0, 'neu': 1.0, 'pos': 0.0, 'compound...  \n",
       "95  {'neg': 0.0, 'neu': 1.0, 'pos': 0.0, 'compound...  \n",
       "96  {'neg': 0.0, 'neu': 0.659, 'pos': 0.341, 'comp...  \n",
       "97  {'neg': 0.0, 'neu': 1.0, 'pos': 0.0, 'compound...  \n",
       "98  {'neg': 0.0, 'neu': 1.0, 'pos': 0.0, 'compound...  \n",
       "99  {'neg': 0.185, 'neu': 0.717, 'pos': 0.098, 'co...  \n",
       "\n",
       "[100 rows x 2 columns]"
      ]
     },
     "metadata": {},
     "output_type": "display_data"
    }
   ],
   "source": [
    "sid = SentimentIntensityAnalyzer()\n",
    "\n",
    "\n",
    "listy = []\n",
    "\n",
    "for index, row in data.iterrows():\n",
    "  ss = sid.polarity_scores(row[\"Tweets\"])\n",
    "  listy.append(ss)\n",
    "  \n",
    "se = pd.Series(listy)\n",
    "data['polarity'] = se.values\n",
    "\n",
    "display(data.head(100))"
   ]
  },
  {
   "cell_type": "markdown",
   "metadata": {},
   "source": [
    "# Data Analysis"
   ]
  },
  {
   "cell_type": "markdown",
   "metadata": {},
   "source": [
    "## Graphical analysis"
   ]
  },
  {
   "cell_type": "code",
   "execution_count": 14,
   "metadata": {
    "ExecuteTime": {
     "end_time": "2019-07-29T04:45:04.039344Z",
     "start_time": "2019-07-29T04:45:04.031364Z"
    }
   },
   "outputs": [],
   "source": [
    "# Create 4 new columns from data['polarity'] column\n",
    "\n",
    "data['negative'] = pd.Series([x['neg'] for x in data.polarity])\n",
    "data['neutral'] = pd.Series([x['neu'] for x in data.polarity])\n",
    "data['positive'] = pd.Series([x['pos'] for x in data.polarity])\n",
    "data['compound'] = pd.Series([x['compound'] for x in data.polarity])"
   ]
  },
  {
   "cell_type": "code",
   "execution_count": 15,
   "metadata": {
    "ExecuteTime": {
     "end_time": "2019-07-29T04:45:04.712396Z",
     "start_time": "2019-07-29T04:45:04.703392Z"
    }
   },
   "outputs": [
    {
     "data": {
      "text/html": [
       "<div>\n",
       "<style scoped>\n",
       "    .dataframe tbody tr th:only-of-type {\n",
       "        vertical-align: middle;\n",
       "    }\n",
       "\n",
       "    .dataframe tbody tr th {\n",
       "        vertical-align: top;\n",
       "    }\n",
       "\n",
       "    .dataframe thead th {\n",
       "        text-align: right;\n",
       "    }\n",
       "</style>\n",
       "<table border=\"1\" class=\"dataframe\">\n",
       "  <thead>\n",
       "    <tr style=\"text-align: right;\">\n",
       "      <th></th>\n",
       "      <th>Tweets</th>\n",
       "      <th>polarity</th>\n",
       "      <th>negative</th>\n",
       "      <th>neutral</th>\n",
       "      <th>positive</th>\n",
       "      <th>compound</th>\n",
       "    </tr>\n",
       "  </thead>\n",
       "  <tbody>\n",
       "    <tr>\n",
       "      <th>0</th>\n",
       "      <td>RT @anorangeduck: Results from our new paper o...</td>\n",
       "      <td>{'neg': 0.0, 'neu': 1.0, 'pos': 0.0, 'compound...</td>\n",
       "      <td>0.0</td>\n",
       "      <td>1.0</td>\n",
       "      <td>0.0</td>\n",
       "      <td>0.0</td>\n",
       "    </tr>\n",
       "    <tr>\n",
       "      <th>1</th>\n",
       "      <td>RT @anorangeduck: Results from our new paper o...</td>\n",
       "      <td>{'neg': 0.0, 'neu': 1.0, 'pos': 0.0, 'compound...</td>\n",
       "      <td>0.0</td>\n",
       "      <td>1.0</td>\n",
       "      <td>0.0</td>\n",
       "      <td>0.0</td>\n",
       "    </tr>\n",
       "    <tr>\n",
       "      <th>2</th>\n",
       "      <td>Newsroom | HIV :  Researchers at Wits will als...</td>\n",
       "      <td>{'neg': 0.0, 'neu': 1.0, 'pos': 0.0, 'compound...</td>\n",
       "      <td>0.0</td>\n",
       "      <td>1.0</td>\n",
       "      <td>0.0</td>\n",
       "      <td>0.0</td>\n",
       "    </tr>\n",
       "    <tr>\n",
       "      <th>3</th>\n",
       "      <td>Forbes: Google Just Made #MachineLearning More...</td>\n",
       "      <td>{'neg': 0.0, 'neu': 1.0, 'pos': 0.0, 'compound...</td>\n",
       "      <td>0.0</td>\n",
       "      <td>1.0</td>\n",
       "      <td>0.0</td>\n",
       "      <td>0.0</td>\n",
       "    </tr>\n",
       "    <tr>\n",
       "      <th>4</th>\n",
       "      <td>Harnessing big data and machine learning to fo...</td>\n",
       "      <td>{'neg': 0.0, 'neu': 1.0, 'pos': 0.0, 'compound...</td>\n",
       "      <td>0.0</td>\n",
       "      <td>1.0</td>\n",
       "      <td>0.0</td>\n",
       "      <td>0.0</td>\n",
       "    </tr>\n",
       "  </tbody>\n",
       "</table>\n",
       "</div>"
      ],
      "text/plain": [
       "                                              Tweets  \\\n",
       "0  RT @anorangeduck: Results from our new paper o...   \n",
       "1  RT @anorangeduck: Results from our new paper o...   \n",
       "2  Newsroom | HIV :  Researchers at Wits will als...   \n",
       "3  Forbes: Google Just Made #MachineLearning More...   \n",
       "4  Harnessing big data and machine learning to fo...   \n",
       "\n",
       "                                            polarity  negative  neutral  \\\n",
       "0  {'neg': 0.0, 'neu': 1.0, 'pos': 0.0, 'compound...       0.0      1.0   \n",
       "1  {'neg': 0.0, 'neu': 1.0, 'pos': 0.0, 'compound...       0.0      1.0   \n",
       "2  {'neg': 0.0, 'neu': 1.0, 'pos': 0.0, 'compound...       0.0      1.0   \n",
       "3  {'neg': 0.0, 'neu': 1.0, 'pos': 0.0, 'compound...       0.0      1.0   \n",
       "4  {'neg': 0.0, 'neu': 1.0, 'pos': 0.0, 'compound...       0.0      1.0   \n",
       "\n",
       "   positive  compound  \n",
       "0       0.0       0.0  \n",
       "1       0.0       0.0  \n",
       "2       0.0       0.0  \n",
       "3       0.0       0.0  \n",
       "4       0.0       0.0  "
      ]
     },
     "execution_count": 15,
     "metadata": {},
     "output_type": "execute_result"
    }
   ],
   "source": [
    "data.head()"
   ]
  },
  {
   "cell_type": "code",
   "execution_count": 17,
   "metadata": {
    "ExecuteTime": {
     "end_time": "2019-07-29T04:45:08.455869Z",
     "start_time": "2019-07-29T04:45:08.335407Z"
    }
   },
   "outputs": [
    {
     "data": {
      "text/plain": [
       "[<matplotlib.lines.Line2D at 0x1a15358e780>]"
      ]
     },
     "execution_count": 17,
     "metadata": {},
     "output_type": "execute_result"
    },
    {
     "data": {
      "text/plain": [
       "<matplotlib.lines.Line2D at 0x1a153621128>"
      ]
     },
     "execution_count": 17,
     "metadata": {},
     "output_type": "execute_result"
    },
    {
     "data": {
      "image/png": "[encoded data removed]",
      "text/plain": [
       "<Figure size 432x288 with 1 Axes>"
      ]
     },
     "metadata": {
      "needs_background": "light"
     },
     "output_type": "display_data"
    }
   ],
   "source": [
    "plt.plot(data['compound']) # plot compound score for each tweets\n",
    "plt.axhline(y=data['compound'].mean(), linestyle='--', color='red') # plot average compound score"
   ]
  },
  {
   "cell_type": "markdown",
   "metadata": {},
   "source": [
    "## Create a wordcloud of most frequented words"
   ]
  },
  {
   "cell_type": "code",
   "execution_count": 18,
   "metadata": {
    "ExecuteTime": {
     "end_time": "2019-07-29T04:45:17.921254Z",
     "start_time": "2019-07-29T04:45:17.919256Z"
    }
   },
   "outputs": [],
   "source": [
    "# Convert tweets to one string\n",
    "# Remove unnecessory word - stopword, punctuation"
   ]
  },
  {
   "cell_type": "code",
   "execution_count": 19,
   "metadata": {
    "ExecuteTime": {
     "end_time": "2019-07-29T04:45:18.335580Z",
     "start_time": "2019-07-29T04:45:18.318597Z"
    }
   },
   "outputs": [],
   "source": [
    "# Import wordcloud\n",
    "from wordcloud import WordCloud, STOPWORDS"
   ]
  },
  {
   "cell_type": "code",
   "execution_count": 20,
   "metadata": {
    "ExecuteTime": {
     "end_time": "2019-07-29T04:45:19.133509Z",
     "start_time": "2019-07-29T04:45:18.911070Z"
    }
   },
   "outputs": [
    {
     "data": {
      "text/plain": [
       "<matplotlib.image.AxesImage at 0x1a158f84630>"
      ]
     },
     "execution_count": 20,
     "metadata": {},
     "output_type": "execute_result"
    },
    {
     "data": {
      "text/plain": [
       "(-0.5, 399.5, 199.5, -0.5)"
      ]
     },
     "execution_count": 20,
     "metadata": {},
     "output_type": "execute_result"
    },
    {
     "data": {
      "image/png": "[encoded data removed]",
      "text/plain": [
       "<Figure size 432x288 with 1 Axes>"
      ]
     },
     "metadata": {
      "needs_background": "light"
     },
     "output_type": "display_data"
    }
   ],
   "source": [
    "# Step 1: Quick template\n",
    "\n",
    "# Create and generate a word cloud image:\n",
    "wordcloud = WordCloud().generate(data['Tweets'][1])\n",
    "\n",
    "# Display the generated image:\n",
    "plt.imshow(wordcloud, interpolation='bilinear')\n",
    "plt.axis(\"off\")\n",
    "plt.show()"
   ]
  },
  {
   "cell_type": "code",
   "execution_count": 21,
   "metadata": {
    "ExecuteTime": {
     "end_time": "2019-07-29T04:45:24.744748Z",
     "start_time": "2019-07-29T04:45:20.974874Z"
    }
   },
   "outputs": [
    {
     "name": "stderr",
     "output_type": "stream",
     "text": [
      "C:\\Users\\BRIAN\\Anaconda3\\lib\\site-packages\\ipykernel_launcher.py:5: DeprecationWarning: `imread` is deprecated!\n",
      "`imread` is deprecated in SciPy 1.0.0, and will be removed in 1.2.0.\n",
      "Use ``imageio.imread`` instead.\n",
      "  \"\"\"\n",
      "C:\\Users\\BRIAN\\Anaconda3\\lib\\site-packages\\wordcloud\\wordcloud.py:721: UserWarning: mask image should be unsigned byte between 0 and 255. Got a float array\n",
      "  warnings.warn(\"mask image should be unsigned byte between 0\"\n",
      "C:\\Users\\BRIAN\\Anaconda3\\lib\\site-packages\\wordcloud\\wordcloud.py:721: UserWarning: mask image should be unsigned byte between 0 and 255. Got a float array\n",
      "  warnings.warn(\"mask image should be unsigned byte between 0\"\n"
     ]
    },
    {
     "data": {
      "text/plain": [
       "<matplotlib.image.AxesImage at 0x1a158d213c8>"
      ]
     },
     "execution_count": 21,
     "metadata": {},
     "output_type": "execute_result"
    },
    {
     "data": {
      "text/plain": [
       "(-0.5, 999.5, 807.5, -0.5)"
      ]
     },
     "execution_count": 21,
     "metadata": {},
     "output_type": "execute_result"
    },
    {
     "data": {
      "image/png": "[encoded data removed]",
      "text/plain": [
       "<Figure size 432x288 with 1 Axes>"
      ]
     },
     "metadata": {
      "needs_background": "light"
     },
     "output_type": "display_data"
    }
   ],
   "source": [
    "# Step 2: Enhance!\n",
    "\n",
    "# Import the mask so wordcloud will have a twitter bird shape:\n",
    "from scipy.misc import imread\n",
    "twitter_mask = imread('twitter_mask.png', flatten=True)\n",
    "\n",
    "# Join the whole tweets columns into one single string:\n",
    "words = ' '.join(data['Tweets'])\n",
    "\n",
    "# Remove URLs, RT, hashtag and twitter handles\n",
    "word_cleaned = \" \".join([word for word in words.split()\n",
    "                  if 'http' not in word\n",
    "                  and 'https' not in word\n",
    "                  and not word.startswith('@')\n",
    "                  and not word.startswith('#')\n",
    "                  and word != 'RT'])\n",
    "\n",
    "# Create and generate a word cloud image:\n",
    "wordcloud = WordCloud(stopwords=STOPWORDS, # remove stopwords\n",
    "                      background_color='white',\n",
    "                      width=1800,\n",
    "                      height=1400,\n",
    "                      mask=twitter_mask # use twitter image as mask\n",
    "                     ).generate(word_cleaned)\n",
    "\n",
    "# Display the generated image:\n",
    "plt.imshow(wordcloud, interpolation='bilinear')\n",
    "plt.axis(\"off\")\n",
    "plt.show()"
   ]
  }
 ],
 "metadata": {
  "colab": {
   "name": "Untitled29.ipynb",
   "provenance": [],
   "version": "0.3.2"
  },
  "kernelspec": {
   "display_name": "Python 3",
   "language": "python",
   "name": "python3"
  },
  "language_info": {
   "codemirror_mode": {
    "name": "ipython",
    "version": 3
   },
   "file_extension": ".py",
   "mimetype": "text/x-python",
   "name": "python",
   "nbconvert_exporter": "python",
   "pygments_lexer": "ipython3",
   "version": "3.7.3"
  },
  "toc": {
   "base_numbering": 1,
   "nav_menu": {},
   "number_sections": true,
   "sideBar": true,
   "skip_h1_title": false,
   "title_cell": "Table of Contents",
   "title_sidebar": "Contents",
   "toc_cell": false,
   "toc_position": {
    "height": "100px",
    "left": "1050.2px",
    "top": "110px",
    "width": "188.797px"
   },
   "toc_section_display": true,
   "toc_window_display": true
  }
 },
 "nbformat": 4,
 "nbformat_minor": 1
}
